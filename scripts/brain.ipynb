{
 "cells": [
  {
   "cell_type": "code",
   "execution_count": null,
   "id": "fe542c48-e9c2-472c-b42a-3f7b73dea241",
   "metadata": {},
   "outputs": [],
   "source": [
    "# for data processing\n",
    "import pandas as pd \n",
    "# Data_Frame_1 in Excel speichern\n",
    "import os\n",
    "# for copy one file to other path\n",
    "import shutil"
   ]
  },
  {
   "cell_type": "code",
   "execution_count": null,
   "id": "44d55678-cbfb-4e84-9f2b-bcc6f9fe613b",
   "metadata": {},
   "outputs": [],
   "source": [
    "# Load the Placeholder Excel Template\n",
    "# this template will be used for saving:\n",
    "# hotel information\n",
    "# text describing the graphs\n",
    "# references for the graphs\n",
    "df_placeholder = pd.read_excel(\"../templates/placeholder.xlsx\")"
   ]
  },
  {
   "cell_type": "code",
   "execution_count": null,
   "id": "4f51a609-e61b-470b-994f-54b3bc396ed5",
   "metadata": {},
   "outputs": [],
   "source": [
    "# Generating some example data for Nov.2024\n",
    "week = 46\n",
    "month = 11\n",
    "monat = 'November'\n",
    "HotelName = 'Aparthotel Adagio Frankfurt City Messe'\n",
    "City = 'Frankfurt'\n",
    "Street = 'Hamburger Allee 4 '\n",
    "id = 1758394 # this is hotel_id for the above hotel"
   ]
  },
  {
   "cell_type": "code",
   "execution_count": null,
   "id": "280719fe-e10e-4f89-9080-a0cf888bf6c5",
   "metadata": {},
   "outputs": [],
   "source": [
    "# Create a folder where all the data will be later saved\n",
    "if not os.path.exists('../'+str(id)):\n",
    "    os.makedirs('../'+str(id))\n",
    "    print(\"Folder: \"+str(id)+\" is created.\")\n",
    "else:\n",
    "    print(\"Folder already created.\")\n",
    "# Create Folder for the weekly report\n",
    "# Add Hotel Data inside the placeholder template\n",
    "if not os.path.exists('../'+str(id)+'/Week_'+str(week)):\n",
    "    os.makedirs('../'+str(id)+'/Week_'+str(week))\n",
    "    # Definiere die Placeholder\n",
    "    df_placeholder.loc[df_placeholder['Placeholder']=='ID','Content']=str(id)\n",
    "    df_placeholder.loc[df_placeholder['Placeholder']=='{{HotelName}}','Content']=HotelName\n",
    "    df_placeholder.loc[df_placeholder['Placeholder']=='{{HotelStr}}','Content']=Street\n",
    "    df_placeholder.loc[df_placeholder['Placeholder']=='{{Stadt}}','Content']=City\n",
    "    df_placeholder.loc[df_placeholder['Placeholder']=='{{KW}}','Content']=str(week)\n",
    "    df_placeholder.loc[df_placeholder['Placeholder']=='{{Month}}','Content']=monat\n",
    "    df_placeholder.to_excel('../'+str(id)+\"/Week_\"+str(week)+\"/placeholder_week_\"+str(week)+\"_id_\"+str(id)+\".xlsx\")\n",
    "    # Define source and destination file paths\n",
    "    source_file = '../templates/'+'report_week_nb.docx'\n",
    "    destination_file = '../'+str(id)+'/Week_'+str(week)+'/report_week_'+str(week)+'_id_'+str(id)+'.docx' \n",
    "    # Copy the file\n",
    "    shutil.copyfile(source_file, destination_file)\n",
    "    print(\"Week: \"+str(week)+\" is created.\")\n",
    "else:\n",
    "    print('The Weekly Folder already existing')\n",
    "    \n",
    "# the same for the monthly report  \n",
    "if not os.path.exists('../'+str(id)+'/Month_'+str(month)):\n",
    "    os.makedirs('../'+str(id)+'/Month_'+str(month))\n",
    "    # define the Placeholder\n",
    "    df_placeholder.loc[df_placeholder['Placeholder']=='ID','Content']=str(id)\n",
    "    df_placeholder.loc[df_placeholder['Placeholder']=='{{HotelName}}','Content']=HotelName\n",
    "    df_placeholder.loc[df_placeholder['Placeholder']=='{{HotelStr}}','Content']=Street\n",
    "    df_placeholder.loc[df_placeholder['Placeholder']=='{{Stadt}}','Content']=City\n",
    "    df_placeholder.loc[df_placeholder['Placeholder']=='{{KW}}','Content']=str(week)\n",
    "    df_placeholder.loc[df_placeholder['Placeholder']=='{{Month}}','Content']=monat\n",
    "    df_placeholder.to_excel('../'+str(id)+\"/Month_\"+str(month)+\"/placeholder_month_\"+str(month)+\"_id_\"+str(id)+\".xlsx\")\n",
    "    # Define source and destination file paths\n",
    "    source_file = '../templates/'+'report_month_nb.docx'\n",
    "    destination_file = '../'+str(id)+'/Month_'+str(month)+'/report_month_'+str(month)+'_id_'+str(id)+'.docx'  \n",
    "    # Copy the file\n",
    "    shutil.copyfile(source_file, destination_file)\n",
    "    print(\"Month: \"+str(monat)+\" is created.\")\n",
    "else:\n",
    "    print('Monthly Folder already existing')"
   ]
  }
 ],
 "metadata": {
  "kernelspec": {
   "display_name": "Python 3 (ipykernel)",
   "language": "python",
   "name": "python3"
  },
  "language_info": {
   "codemirror_mode": {
    "name": "ipython",
    "version": 3
   },
   "file_extension": ".py",
   "mimetype": "text/x-python",
   "name": "python",
   "nbconvert_exporter": "python",
   "pygments_lexer": "ipython3",
   "version": "3.12.1"
  }
 },
 "nbformat": 4,
 "nbformat_minor": 5
}
