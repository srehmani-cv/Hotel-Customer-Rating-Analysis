{
 "cells": [
  {
   "cell_type": "markdown",
   "id": "537012ca-1040-4381-becb-d94863f595a5",
   "metadata": {},
   "source": [
    "# Libraries"
   ]
  },
  {
   "cell_type": "code",
   "execution_count": null,
   "id": "53668c5b-6b97-457e-a7b0-68049362c461",
   "metadata": {},
   "outputs": [],
   "source": [
    "#Load all important libraries\n",
    "import json\n",
    "from datetime import datetime\n",
    "import pandas as pd \n",
    "import matplotlib.pyplot as plt \n",
    "import re\n",
    "import spacy\n",
    "import seaborn as sns\n",
    "import numpy as np\n",
    "from matplotlib.ticker import MaxNLocator\n",
    "import math"
   ]
  },
  {
   "cell_type": "markdown",
   "id": "fc546e6b-2fba-42f2-801d-d5ea5d006001",
   "metadata": {},
   "source": [
    "# Data Loading"
   ]
  },
  {
   "cell_type": "code",
   "execution_count": null,
   "id": "4abd07d1-8824-4249-be8a-d444e2313d75",
   "metadata": {},
   "outputs": [],
   "source": [
    "# Generating some example data\n",
    "week = 46\n",
    "month = 11\n",
    "monat = 'November'\n",
    "HotelName = 'Aparthotel Adagio Frankfurt City Messe'\n",
    "City = 'Frankfurt'\n",
    "Street = 'Hamburger Allee 4 '\n",
    "id = 1758394 # this is hotel_id"
   ]
  },
  {
   "cell_type": "code",
   "execution_count": null,
   "id": "4622a83c-70df-4699-b824-0c33cc6794bf",
   "metadata": {},
   "outputs": [],
   "source": [
    "#Load the Data_Frames: General, Placeholder, Neg, Pos\n",
    "df_gen = pd.read_excel('../'+str(id)+\"/General \"+str(id)+\".xlsx\")\n",
    "df_neg = pd.read_excel('../'+str(id)+\"/Neg \"+str(id)+\".xlsx\")\n",
    "df_pos = pd.read_excel('../'+str(id)+\"/Pos \"+str(id)+\".xlsx\")\n",
    "df_placeholder = pd.read_excel('../'+str(id)+'/Week_'+str(week)+'/placeholder_week_'+str(week)+'_id_'+str(id)+'.xlsx')"
   ]
  },
  {
   "cell_type": "markdown",
   "id": "47be36d1-b793-4be1-88b9-c4953988152c",
   "metadata": {},
   "source": [
    "# Process Data only October and November"
   ]
  },
  {
   "cell_type": "code",
   "execution_count": null,
   "id": "9e5c2400-100b-4bb8-9a09-0c10c578b000",
   "metadata": {},
   "outputs": [],
   "source": [
    "# Take only Cells from November Comments\n",
    "df_gen['Woche'] = df_gen['Comment_Date'].dt.isocalendar().week\n",
    "df_gen['Month'] = df_gen['Comment_Date'].dt.month"
   ]
  },
  {
   "cell_type": "code",
   "execution_count": null,
   "id": "29822eb3-8e51-4ce9-a50a-3cc5d46f4aea",
   "metadata": {},
   "outputs": [],
   "source": [
    "# November 46CW and 45CW: Weekly Highlights\n",
    "df_sub_46_gen=df_gen[(df_gen['Woche']==week)].copy() #<-----46CW Weekly Highlights\n",
    "df_sub_45_gen=df_gen[(df_gen['Woche']==week-1)].copy() #<-----45CW Weekly Highlights"
   ]
  },
  {
   "cell_type": "code",
   "execution_count": null,
   "id": "8f7aacea-260d-400d-be6b-1d3b49c86e46",
   "metadata": {},
   "outputs": [],
   "source": [
    "# Take only Cells from 46CW Positive Comments\n",
    "df_pos['Woche'] = df_pos['Date'].dt.isocalendar().week\n",
    "df_pos['Month'] = df_pos['Date'].dt.month\n",
    "# November 46KW: Weekly Highlights Positive Comments\n",
    "df_sub_46_pos=df_pos[(df_pos['Woche']==week)].copy() #<----- Weekly Highlights\n",
    "df_sub_45_pos=df_pos[(df_pos['Woche']==week-1)].copy() #<----- Weekly Highlights"
   ]
  },
  {
   "cell_type": "code",
   "execution_count": null,
   "id": "17e36feb-20c3-44ac-a0c9-b56b346defb0",
   "metadata": {},
   "outputs": [],
   "source": [
    "# Take only Cells from 46CW Negative Comments\n",
    "df_neg['Woche'] = df_neg['Date'].dt.isocalendar().week\n",
    "df_neg['Month'] = df_neg['Date'].dt.month\n",
    "# November 45KW: Weekly Highlights Negative Comments\n",
    "df_sub_46_neg=df_neg[(df_neg['Woche']==week)].copy() #<----- Weekly Highlights\n",
    "df_sub_45_neg=df_neg[(df_neg['Woche']==week-1)].copy() #<----- Weekly Highlights"
   ]
  },
  {
   "cell_type": "markdown",
   "id": "cca2fe38-f7fd-45d2-87c4-9e0cfe7e6ca0",
   "metadata": {},
   "source": [
    "# Weekly Highlights"
   ]
  },
  {
   "cell_type": "markdown",
   "id": "8a4091e4-eca0-4728-a5a0-449bee3c7ce1",
   "metadata": {},
   "source": [
    "## Data Overview"
   ]
  },
  {
   "cell_type": "markdown",
   "id": "867b1ce0-d303-4a2b-b075-6a2bf7082bb4",
   "metadata": {},
   "source": [
    "### Score for November Week 46"
   ]
  },
  {
   "cell_type": "code",
   "execution_count": null,
   "id": "7098eb7a-ee0a-47ba-92c7-5e1c71d351ca",
   "metadata": {},
   "outputs": [],
   "source": [
    "# Data Overview for Week 46\n",
    "df_sub_46_gen[\"Score\"].describe()\n",
    "df_sub_46_gen['Score'].value_counts()\n",
    "counts = df_sub_46_gen['Score'].value_counts().sum()"
   ]
  },
  {
   "cell_type": "code",
   "execution_count": null,
   "id": "9b606dc1-cd9a-4fe3-9524-1ef6de0abf22",
   "metadata": {},
   "outputs": [],
   "source": [
    "# Safe the important values\n",
    "# they will be later saved in placeholder.xlsx\n",
    "score_min=df_sub_46_gen[\"Score\"].describe()['min']\n",
    "score_max=df_sub_46_gen[\"Score\"].describe()['max']\n",
    "score_mean=df_sub_46_gen[\"Score\"].describe()['mean']\n",
    "score_q1=df_sub_46_gen[\"Score\"].describe()['25%']\n",
    "score_q2=df_sub_46_gen[\"Score\"].describe()['75%']"
   ]
  },
  {
   "cell_type": "code",
   "execution_count": null,
   "id": "64a667c6-5ca3-4af4-94ca-f0b089d37f9c",
   "metadata": {},
   "outputs": [],
   "source": [
    "# Create a text for describing the statistics\n",
    "score_text = 'Score-Distribution:\\nThe boxplot shows the distribution of scores. The lowest rating given was a ' + str(round(score_min)) + ', the highest rating given was a ' + str(round(score_max)) + '. The average rating is ' + str(round(score_mean, 2)) + ', and 50% of guests rated the hotel between ' + str(round(score_q1, 2)) + ' and ' + str(round(score_q2, 2)) + '.'"
   ]
  },
  {
   "cell_type": "code",
   "execution_count": null,
   "id": "3abb8d20-25f1-425b-82bc-60d82638e60d",
   "metadata": {},
   "outputs": [],
   "source": [
    "# safe the values in placeholder dataframe\n",
    "df_placeholder.loc[df_placeholder[\"Placeholder\"]=='{{Score_Week}}','Content']=score_text"
   ]
  },
  {
   "cell_type": "code",
   "execution_count": null,
   "id": "639f04e8-3f84-4ce5-856e-0a485708c810",
   "metadata": {},
   "outputs": [],
   "source": [
    "# Create a box plot\n",
    "sns.boxplot(y='Score', data=df_sub_46_gen, color=\"lightblue\",\n",
    "            linecolor=\"black\",\n",
    "           medianprops={\"color\": \"r\", \"linewidth\": 2})\n",
    "\n",
    "# Add labels and title\n",
    "plt.ylabel('Score')\n",
    "plt.ylim(0,11)\n",
    "\n",
    "plt.savefig('../'+str(id)+\"/Week_\"+str(week)+\"/score.png\",bbox_inches='tight')\n",
    "# Show plot\n",
    "plt.show()\n"
   ]
  },
  {
   "cell_type": "code",
   "execution_count": null,
   "id": "bde03a3c-b76c-4df8-9b07-ee3d5b86eecd",
   "metadata": {},
   "outputs": [],
   "source": [
    "# Generate an explanation text for the boxplot\n",
    "score_levels=[0]\n",
    "text=''\n",
    "j=0\n",
    "for i in range(1,11):\n",
    "    score_levels.append(df_sub_46_gen[\"Score\"].value_counts().get(i,0))\n",
    "    if score_levels[i] > 1:\n",
    "        text = text +'The score level '+str(i)+' has '+str(score_levels[i])+' ratings ('+str(round(100*score_levels[i]/counts,1))+'%). '\n",
    "    elif score_levels[i] == 1:\n",
    "        text = text +'The score level '+str(i)+' has one rating ('+str(round(100*score_levels[i]/counts,1))+'%). '\n",
    "    else:\n",
    "        j=1\n",
    "if j==1:\n",
    "    text = text + 'No ratings were given for the other score levels.'\n",
    "sum(score_levels)  \n",
    "score_level_text = 'Score-Level Distribution:\\nThe bar plot shows the score values for each score level. A total of ' + str(sum(score_levels)) + ' ratings were given. ' + text\n",
    "# save the values in Placeholder DataFrame\n",
    "df_placeholder.loc[df_placeholder[\"Placeholder\"]=='{{Score_Level_Week}}','Content']=score_level_text"
   ]
  },
  {
   "cell_type": "code",
   "execution_count": null,
   "id": "a8690129-6631-4462-8279-a0369fa96e13",
   "metadata": {},
   "outputs": [],
   "source": [
    "# Create a Barplot\n",
    "plt.figure(figsize=(8, 6))  # size of the diagram\n",
    "sns.barplot(df_sub_46_gen[\"Score\"].value_counts(), color='lightblue', legend=False)\n",
    "\n",
    "# add labels\n",
    "plt.xlabel('Score-Level')\n",
    "plt.ylabel('Counts')\n",
    "# only wholenumbers on y-axis\n",
    "plt.gca().yaxis.set_major_locator(MaxNLocator(integer=True))\n",
    "plt.savefig('../'+str(id)+\"/Week_\"+str(week)+\"/score_level.png\",bbox_inches='tight')\n",
    "# show plot\n",
    "plt.show()\n"
   ]
  },
  {
   "cell_type": "code",
   "execution_count": null,
   "id": "fe8325ff-85e3-4175-9b75-558f754405d2",
   "metadata": {},
   "outputs": [],
   "source": [
    "# Create barplot\n",
    "plt.figure(figsize=(8, 6)) \n",
    "sns.barplot(df_sub_46_gen[\"Nights\"].value_counts(), color='lightblue', legend=False)\n",
    "\n",
    "# add labels\n",
    "plt.title('Count der Score-Level')\n",
    "plt.xlabel('Night-Level')\n",
    "plt.ylabel('Counts')\n",
    "# only wholenumbers in y-axis\n",
    "plt.gca().yaxis.set_major_locator(MaxNLocator(integer=True))\n",
    "plt.savefig('../'+str(id)+\"/Week_\"+str(week)+\"/Nacht Week.png\")\n",
    "# show plot\n",
    "plt.show()"
   ]
  },
  {
   "cell_type": "markdown",
   "id": "80566fd7-bee7-4d59-b86a-689b37aadc9c",
   "metadata": {},
   "source": [
    "### Customer Type Distribution"
   ]
  },
  {
   "cell_type": "code",
   "execution_count": null,
   "id": "49e49593-bc16-4271-b19e-a3107798f31e",
   "metadata": {},
   "outputs": [],
   "source": [
    "df_sub_46_gen[\"Customer_Type\"].describe()"
   ]
  },
  {
   "cell_type": "code",
   "execution_count": null,
   "id": "e2203360-ffc6-492b-8687-02aa31cd765c",
   "metadata": {},
   "outputs": [],
   "source": [
    "df_sub_46_gen[\"Customer_Type\"].value_counts()"
   ]
  },
  {
   "cell_type": "code",
   "execution_count": null,
   "id": "8b7fa329-99de-4295-820c-c87c62ed281d",
   "metadata": {},
   "outputs": [],
   "source": [
    "# define values for the text\n",
    "customer_count = df_sub_46_gen['Customer_Type'].value_counts().sum()\n",
    "customer_typen = df_sub_46_gen[\"Customer_Type\"].value_counts().index.tolist()"
   ]
  },
  {
   "cell_type": "code",
   "execution_count": null,
   "id": "25932227-c11c-49cd-8b4e-9b95dbd0ad1b",
   "metadata": {},
   "outputs": [],
   "source": [
    "# create the dynamic text for describing the graph\n",
    "customer_types=[0]\n",
    "customer_text1=''\n",
    "j=0\n",
    "for i in df_sub_45_gen[\"Customer_Type\"].value_counts().index.tolist():\n",
    "    k=df_sub_45_gen[\"Customer_Type\"].value_counts().get(i,0)\n",
    "    customer_types.append(k)\n",
    "    if k > 1:\n",
    "        customer_text1 = customer_text1 +'The customer type '+i+' has '+str(k)+' ratings ('+str(round((k/customer_count)*100,1))+'%). '\n",
    "    elif k == 1:\n",
    "        customer_text1 = customer_text1 +'The customer type '+i+' has one rating ('+str(round(100/customer_count,1))+'%). '\n",
    "    else:\n",
    "        j=1\n",
    "if j==1:\n",
    "    customer_text1 = customer_text1 + 'No ratings were given for the other customer types.'\n",
    "sum(customer_types)  "
   ]
  },
  {
   "cell_type": "code",
   "execution_count": null,
   "id": "aab6d98f-d299-46c2-8e75-47ce43b4faa7",
   "metadata": {},
   "outputs": [],
   "source": [
    "# create text for the Placeholder\n",
    "customer_text = 'Customer Type Distribution:\\nThe pie chart shows the proportions of different customer types. The ' + str(customer_count) + ' guest ratings are divided into the following customer types: ' + str(', '.join(customer_typen)) + '. ' + customer_text1"
   ]
  },
  {
   "cell_type": "code",
   "execution_count": null,
   "id": "946c84bd-ef19-4466-aadc-ab382e63799a",
   "metadata": {},
   "outputs": [],
   "source": [
    "# save the Placeholder DataFrame\n",
    "df_placeholder.loc[df_placeholder['Placeholder']=='{{Customer_Week}}','Content']=customer_text"
   ]
  },
  {
   "cell_type": "code",
   "execution_count": null,
   "id": "bedde533-9d70-410f-bee9-820f7e660f29",
   "metadata": {},
   "outputs": [],
   "source": [
    "# Seaborn-colorpalette\n",
    "colors = sns.color_palette(\"Set2\", len(df_sub_46_gen[\"Customer_Type\"].value_counts()))  # 'Set2' Palette\n",
    "\n",
    "# create a pie diagram\n",
    "plt.figure(figsize=(8, 3))\n",
    "plt.pie(df_sub_46_gen[\"Customer_Type\"].value_counts(), autopct='%1.1f%%', startangle=140, colors=colors, wedgeprops={'edgecolor': 'white'})\n",
    "hole = plt.Circle((0, 0), 0.75, facecolor='white')\n",
    "plt.gcf().gca().add_artist(hole)\n",
    "\n",
    "# add legend \n",
    "plt.legend(df_sub_46_gen[\"Customer_Type\"].value_counts().index.tolist(), loc=\"center left\", bbox_to_anchor=(1, 0.5), title=\"Kategorien\")\n",
    "plt.tight_layout()\n",
    "plt.savefig('../'+str(id)+\"/Week_\"+str(week)+\"/customer.png\",bbox_inches='tight')\n",
    "# show plot\n",
    "plt.show()\n"
   ]
  },
  {
   "cell_type": "markdown",
   "id": "267b4672-144d-4cb8-afef-6f86fb1538f4",
   "metadata": {},
   "source": [
    "### Number of Comment Distribution"
   ]
  },
  {
   "cell_type": "code",
   "execution_count": null,
   "id": "a290170b-d3e3-4853-9929-647dabae34ee",
   "metadata": {},
   "outputs": [],
   "source": [
    "# overview and safe a text for describing the data\n",
    "positiv_counts = df_sub_46_gen[\"Positiv\"].describe()['count']\n",
    "negativ_counts = df_sub_46_gen[\"Negativ\"].describe()['count']\n",
    "pos_neg_sum = positiv_counts+negativ_counts\n",
    "pos_neg_text = 'Positive-Negative Distribution:\\nThis week, there were ' + str(positiv_counts) + ' positive (' + str(round(100 * positiv_counts / pos_neg_sum, 1)) + '%) and ' + str(negativ_counts) + ' negative (' + str(round(100 * negativ_counts / pos_neg_sum, 1)) + '%) comments, with a customer being able to write both positive and negative feedback.'\n",
    "df_placeholder.loc[df_placeholder['Placeholder']=='{{Pos_Neg}}',['Content']]=pos_neg_text\n",
    "pos_neg_text"
   ]
  },
  {
   "cell_type": "code",
   "execution_count": null,
   "id": "b52f0053-249b-4e2c-8c17-9cd5d7a02a32",
   "metadata": {},
   "outputs": [],
   "source": [
    "# visualize the data\n",
    "pos_neg_size = [df_sub_46_gen[\"Positiv\"].describe()[\"count\"],df_sub_46_gen[\"Negativ\"].describe()[\"count\"]]\n",
    "pos_neg_label = [\"Positiv\",\"Negativ\"]\n",
    "# color-palaette\n",
    "colors = sns.color_palette(\"Set2\", len(pos_neg_size))  # 'Set2' Palette\n",
    "\n",
    "# create pie-diagram\n",
    "plt.figure(figsize=(8, 3))\n",
    "plt.pie(pos_neg_size, autopct='%1.1f%%', startangle=140, colors=colors, wedgeprops={'edgecolor': 'white'})\n",
    "hole = plt.Circle((0, 0), 0.75, facecolor='white')\n",
    "plt.gcf().gca().add_artist(hole)\n",
    "\n",
    "# add legend\n",
    "plt.legend(pos_neg_label, loc=\"center left\", bbox_to_anchor=(1, 0.5), title=\"Kategorien\")\n",
    "plt.tight_layout()\n",
    "plt.savefig('../'+str(id)+\"/Week_\"+str(week)+\"/pos_neg.png\",bbox_inches='tight')\n",
    "# show plot\n",
    "plt.show()\n"
   ]
  },
  {
   "cell_type": "markdown",
   "id": "19fcee43-c0d8-4314-bef0-7433f6f0033a",
   "metadata": {},
   "source": [
    "### Romm Category Distribution"
   ]
  },
  {
   "cell_type": "code",
   "execution_count": null,
   "id": "e9a051fe-e5b5-4767-a8cd-0b71396262d3",
   "metadata": {},
   "outputs": [],
   "source": [
    "df_sub_46_gen[\"Room_Name\"].describe()\n",
    "df_sub_46_gen[\"Room_Name\"].value_counts()"
   ]
  },
  {
   "cell_type": "code",
   "execution_count": null,
   "id": "f5263ca4-eefb-47b7-bd05-6c6e03dadb59",
   "metadata": {},
   "outputs": [],
   "source": [
    "# define the values\n",
    "room_count = df_sub_46_gen['Room_Name'].value_counts().sum()\n",
    "room_typen = df_sub_46_gen['Room_Name'].value_counts().index.tolist()\n",
    "# create the text for the graph\n",
    "room_tpyes=[0]\n",
    "room_text1=''\n",
    "j=0\n",
    "for i in df_sub_46_gen['Room_Name'].value_counts().index.tolist():\n",
    "    k=df_sub_46_gen['Room_Name'].value_counts().get(i,0)\n",
    "    room_tpyes.append(k)\n",
    "    if k > 1:\n",
    "        room_text1 = room_text1 +'The room type '+i+' has '+str(k)+' ratings ('+str(round((k/room_count)*100,1))+'%). '\n",
    "    elif k == 1:\n",
    "        room_text1 = room_text1 +'The room type '+i+' has one rating ('+str(round(100/room_count,1))+'%). '\n",
    "    else:\n",
    "        j=1\n",
    "if j==1:\n",
    "    room_text1 = room_text1 + 'No rating were given for the other room types.'\n",
    "sum(room_tpyes)\n",
    "# create the text\n",
    "room_text = 'Room Class Distribution:\\nThe pie chart shows the proportions of different room classes. This week, guests have rated the following room classes: ' + str(', '.join(room_typen)) + '. ' + room_text1\n",
    "# save the Placeholder DataFrame\n",
    "df_placeholder.loc[df_placeholder['Placeholder']=='{{Room_Week}}','Content']=room_text"
   ]
  },
  {
   "cell_type": "code",
   "execution_count": null,
   "id": "6b5d7df6-ab06-41f8-8175-94490e2849f9",
   "metadata": {},
   "outputs": [],
   "source": [
    "# use Seaborn-Farbpalette\n",
    "colors = sns.color_palette(\"Set2\", len(df_sub_46_gen[\"Room_Name\"].value_counts()))  # 'Set2' Palette\n",
    "\n",
    "# create pie chart\n",
    "plt.figure(figsize=(8, 3))\n",
    "plt.pie(df_sub_46_gen[\"Room_Name\"].value_counts(), autopct='%1.1f%%', startangle=140, colors=colors, wedgeprops={'edgecolor': 'white'})\n",
    "hole = plt.Circle((0, 0), 0.75, facecolor='white')\n",
    "plt.gcf().gca().add_artist(hole)\n",
    "\n",
    "# add legend\n",
    "plt.legend(df_sub_46_gen[\"Room_Name\"].value_counts().index.tolist(), loc=\"center left\", bbox_to_anchor=(1, 0.5), title=\"Kategorien\")\n",
    "plt.tight_layout()\n",
    "plt.savefig('../'+str(id)+\"/Week_\"+str(week)+\"/room.png\",bbox_inches='tight')\n",
    "# show plot\n",
    "plt.show()\n"
   ]
  },
  {
   "cell_type": "markdown",
   "id": "5cd9dfd6-3c49-4b85-8e55-656ac2c5d8fd",
   "metadata": {},
   "source": [
    "### Travel Purpose Distribution"
   ]
  },
  {
   "cell_type": "code",
   "execution_count": null,
   "id": "3fe3a082-7bd7-44b6-b953-86e6a98827a9",
   "metadata": {},
   "outputs": [],
   "source": [
    "df_sub_46_gen[\"Travel_Purpose\"].describe()\n",
    "df_sub_46_gen[\"Travel_Purpose\"].value_counts()"
   ]
  },
  {
   "cell_type": "code",
   "execution_count": null,
   "id": "a5a44c1e-6615-41aa-a603-a2b47dc56c75",
   "metadata": {},
   "outputs": [],
   "source": [
    "# define the values\n",
    "travel_count = df_sub_46_gen['Travel_Purpose'].value_counts().sum()\n",
    "travel_typen = df_sub_46_gen['Travel_Purpose'].value_counts().index.tolist()\n",
    "# create the dynamic text for graph explanation\n",
    "travel_types=[0]\n",
    "travel_text1=''\n",
    "j=0\n",
    "for i in df_sub_46_gen['Travel_Purpose'].value_counts().index.tolist():\n",
    "    k=df_sub_46_gen['Travel_Purpose'].value_counts().get(i,0)\n",
    "    travel_types.append(k)\n",
    "    if k > 1:\n",
    "        travel_text1 = travel_text1 +'The travel purpose '+i+' has '+str(k)+' ('+str(round((k/travel_count)*100,1))+'%) ratings. '\n",
    "    elif k == 1:\n",
    "        travel_text1 = travel_text1 +'The travel purpose '+i+' has one rating ('+str(round(100/travel_count,1))+'%). '\n",
    "    else:\n",
    "        j=1\n",
    "if j==1:\n",
    "    travel_text1 = travel_text1 + 'No other ratings were given to the other travel purposes.'\n",
    "sum(travel_types)\n",
    "# create Text for Placeholder\n",
    "travel_text = 'Travel Purpose Distribution:\\nThe pie chart shows the proportions of different travel purposes. Guests traveled for the following reasons: ' + str(', '.join(travel_typen)) + '. ' + travel_text1\n",
    "# save in  Placeholder DataFrame\n",
    "df_placeholder.loc[df_placeholder['Placeholder']=='{{Travel_Week}}','Content']=travel_text"
   ]
  },
  {
   "cell_type": "code",
   "execution_count": null,
   "id": "985073a6-81f7-4303-8428-9816732e6ae6",
   "metadata": {},
   "outputs": [],
   "source": [
    "# use seaborn palette\n",
    "colors = sns.color_palette(\"Set2\", len(df_sub_46_gen[\"Travel_Purpose\"].value_counts()))  # 'Set2' Palette\n",
    "\n",
    "# create pie chart\n",
    "plt.figure(figsize=(8, 3))\n",
    "plt.pie(df_sub_46_gen[\"Travel_Purpose\"].value_counts(), autopct='%1.1f%%', startangle=140, colors=colors, wedgeprops={'edgecolor': 'white'})\n",
    "hole = plt.Circle((0, 0), 0.75, facecolor='white')\n",
    "plt.gcf().gca().add_artist(hole)\n",
    "\n",
    "plt.legend(df_sub_46_gen[\"Travel_Purpose\"].value_counts().index.tolist(), loc=\"center left\", bbox_to_anchor=(1, 0.5), title=\"Kategorien\")\n",
    "plt.tight_layout()\n",
    "plt.savefig('../'+str(id)+\"/Week_\"+str(week)+\"/travel.png\",bbox_inches='tight')\n",
    "\n",
    "plt.show()\n"
   ]
  },
  {
   "cell_type": "markdown",
   "id": "a1feae39-d041-49b5-b6b6-240b4e0272f7",
   "metadata": {},
   "source": [
    "## Score Highlights"
   ]
  },
  {
   "cell_type": "markdown",
   "id": "483f6a23-14f9-4afe-8ee4-524c3ebb90da",
   "metadata": {},
   "source": [
    "### Score x Room Category"
   ]
  },
  {
   "cell_type": "code",
   "execution_count": null,
   "id": "24f1fc3a-aa9f-486b-b085-38e21d801044",
   "metadata": {},
   "outputs": [],
   "source": [
    "df_sub_46_gen.groupby(\"Room_Name\")[\"Score\"].describe()"
   ]
  },
  {
   "cell_type": "code",
   "execution_count": null,
   "id": "a0577840-1fda-4f50-9f15-1accf762b523",
   "metadata": {},
   "outputs": [],
   "source": [
    "df_sub_46_gen.groupby(\"Room_Name\")[\"Score\"].value_counts()"
   ]
  },
  {
   "cell_type": "code",
   "execution_count": null,
   "id": "8b22566e-3af9-4c73-9b56-10afd38bf367",
   "metadata": {},
   "outputs": [],
   "source": [
    "score_room_class = df_sub_46_gen.groupby(\"Room_Name\")[\"Score\"].describe().index.tolist()\n",
    "score_room_class"
   ]
  },
  {
   "cell_type": "code",
   "execution_count": null,
   "id": "1c0eb22d-f589-44a5-854a-c953c147fb8d",
   "metadata": {},
   "outputs": [],
   "source": [
    "# create text\n",
    "s_r = df_sub_46_gen.groupby(\"Room_Name\")[\"Score\"].describe()\n",
    "s_r_text = ''\n",
    "for i in score_room_class:\n",
    "    mean = s_r['mean'][i]\n",
    "    if s_r['count'][i]>1:\n",
    "        minimum=s_r['min'][i]\n",
    "        maximum=s_r['max'][i]\n",
    "        q1=s_r['25%'][i]\n",
    "        q2=s_r['75%'][i]\n",
    "        s_r_text = s_r_text + ' The class <'+i+'> has on average given a score of '+str(round(mean,1))+' (Rot), the lowest score was '+str(minimum)+' (Left Line) and highest rating was '+str(maximum)+' (Right Line). 50% of the ratings (Blue) were between '+str(round(q1,1))+' and '+str(round(q2,1))+'.'\n",
    "    elif s_r['count'][i]==1:\n",
    "        s_r_text=s_r_text+' The class <'+i+'> has on average '+str(round(mean,1))+' (Rot) ratings. There was only one rating.'"
   ]
  },
  {
   "cell_type": "code",
   "execution_count": null,
   "id": "ce674d21-6d3b-41ba-a3e1-26926bd95c50",
   "metadata": {},
   "outputs": [],
   "source": [
    "score_room_text = 'Score-Room Class Distribution:\\nThe score distribution is shown for the room categories ' + ', '.join(score_room_class) + '. ' + s_r_text"
   ]
  },
  {
   "cell_type": "code",
   "execution_count": null,
   "id": "e4b46d1b-6bfc-4b2e-9387-59a1a30dd778",
   "metadata": {},
   "outputs": [],
   "source": [
    "# save text in placeholder dataframe\n",
    "df_placeholder.loc[df_placeholder['Placeholder']=='{{Score_Room}}','Content']=score_room_text"
   ]
  },
  {
   "cell_type": "code",
   "execution_count": null,
   "id": "1fa0ed49-be0a-4093-806b-b242f7d6f95d",
   "metadata": {},
   "outputs": [],
   "source": [
    "# create Boxplot\n",
    "plt.figure(figsize=(8, 6))\n",
    "sns.boxplot(x='Score', y=[label.replace(' ','\\n') for label in df_sub_46_gen['Room_Name']], data=df_sub_46_gen, color=\"lightblue\",\n",
    "            linecolor=\"black\",\n",
    "           medianprops={\"color\": \"r\", \"linewidth\": 2})\n",
    "\n",
    "plt.title('Scores pro Room_Name')\n",
    "plt.xlabel('Score')\n",
    "plt.ylabel(\"\")\n",
    "plt.xticks(rotation=0)\n",
    "plt.savefig('../'+str(id)+\"/Week_\"+str(week)+\"/score_room.png\",bbox_inches='tight')\n",
    "\n",
    "plt.show()\n"
   ]
  },
  {
   "cell_type": "markdown",
   "id": "c81046b5-28e2-4332-8b7f-4d1ee85c2bd1",
   "metadata": {},
   "source": [
    "### Score x Travel Purpose"
   ]
  },
  {
   "cell_type": "code",
   "execution_count": null,
   "id": "c9466f56-dd09-4657-80da-49048a406a77",
   "metadata": {},
   "outputs": [],
   "source": [
    "df_sub_46_gen.groupby(\"Travel_Purpose\")[\"Score\"].describe()"
   ]
  },
  {
   "cell_type": "code",
   "execution_count": null,
   "id": "91825d9c-a809-4f95-b169-fd2a3c9388a9",
   "metadata": {},
   "outputs": [],
   "source": [
    "df_sub_46_gen.groupby(\"Travel_Purpose\")[\"Score\"].value_counts()"
   ]
  },
  {
   "cell_type": "code",
   "execution_count": null,
   "id": "7836da8c-bd85-4755-8c6b-83cf8de3242b",
   "metadata": {},
   "outputs": [],
   "source": [
    "# create text\n",
    "score_travel_class = df_sub_46_gen.groupby(\"Travel_Purpose\")[\"Score\"].describe().index.tolist()\n",
    "s_t = df_sub_46_gen.groupby(\"Travel_Purpose\")[\"Score\"].describe()\n",
    "s_t_text = ''\n",
    "for i in score_travel_class:\n",
    "    mean = s_t['mean'][i]\n",
    "    if s_t['count'][i]>1:\n",
    "        minimum=s_t['min'][i]\n",
    "        maximum=s_t['max'][i]\n",
    "        q1=s_t['25%'][i]\n",
    "        q2=s_t['75%'][i]\n",
    "        s_t_text = s_t_text + ' The class <' + i + '> is rated on average with ' + str(round(mean, 1)) + ' (Red), with the lowest rating of ' + str(minimum) + ' (Left bar) and the highest rating of ' + str(maximum) + ' (Right bar). 50% of the ratings (Blue) are between ' + str(round(q1, 1)) + ' and ' + str(round(q2, 1)) + '.'\n",
    "    elif s_t['count'][i]==1:\n",
    "        s_t_text = s_t_text + ' The class <' + i + '> has an average rating of ' + str(round(mean, 1)) + ' (Red). There was only one rating in this class.'\n",
    "score_travel_text = 'Score-Travel Purpose Distribution:\\nThe score distribution is shown for the travel purposes ' + ', '.join(score_travel_class) + '. ' + s_t_text\n",
    "df_placeholder.loc[df_placeholder['Placeholder']=='{{Score_Travel}}','Content']=score_travel_text"
   ]
  },
  {
   "cell_type": "code",
   "execution_count": null,
   "id": "97584761-8f26-4074-827f-5ea3ad912926",
   "metadata": {},
   "outputs": [],
   "source": [
    "# create Boxplot\n",
    "plt.figure(figsize=(8, 6))\n",
    "sns.boxplot(x='Score', y=[label.replace(' ','\\n') for label in df_sub_46_gen['Travel_Purpose']], data=df_sub_46_gen, color=\"lightblue\",\n",
    "            linecolor=\"black\",\n",
    "           medianprops={\"color\": \"r\", \"linewidth\": 2})\n",
    "\n",
    "\n",
    "plt.xlabel('Score')\n",
    "plt.ylabel(\"\")\n",
    "plt.xticks(rotation=0)\n",
    "plt.savefig('../'+str(id)+\"/Week_\"+str(week)+\"/score_travel.png\")\n",
    "plt.show()\n"
   ]
  },
  {
   "cell_type": "markdown",
   "id": "2c94a966-a968-43a7-b9ff-f2e3f1df4ab5",
   "metadata": {},
   "source": [
    "### Score x Customer Type"
   ]
  },
  {
   "cell_type": "code",
   "execution_count": null,
   "id": "60fb464c-7011-42d5-b4a7-63f534d6855a",
   "metadata": {},
   "outputs": [],
   "source": [
    "df_sub_46_gen.groupby(\"Customer_Type\")[\"Score\"].describe()"
   ]
  },
  {
   "cell_type": "code",
   "execution_count": null,
   "id": "2dba5271-7df4-49c6-bede-449439da5be9",
   "metadata": {},
   "outputs": [],
   "source": [
    "df_sub_46_gen.groupby(\"Customer_Type\")[\"Score\"].value_counts()"
   ]
  },
  {
   "cell_type": "code",
   "execution_count": null,
   "id": "a3311e12-32e8-43ae-9ab5-062fd4800b5f",
   "metadata": {},
   "outputs": [],
   "source": [
    "# create text for graph explanation\n",
    "score_customer_class = df_sub_46_gen.groupby(\"Customer_Type\")[\"Score\"].describe().index.tolist()\n",
    "s_c = df_sub_46_gen.groupby(\"Customer_Type\")[\"Score\"].describe()\n",
    "s_c_text = ''\n",
    "for i in score_customer_class:\n",
    "    mean = s_c['mean'][i]\n",
    "    if s_c['count'][i]>1:\n",
    "        minimum=s_c['min'][i]\n",
    "        maximum=s_c['max'][i]\n",
    "        q1=s_c['25%'][i]\n",
    "        q2=s_c['75%'][i]\n",
    "        s_c_text = s_c_text + ' The class <' + i + '> is rated on average with ' + str(round(mean, 1)) + ' (Red), with the lowest rating of ' + str(minimum) + ' (Left bar) and the highest rating of ' + str(maximum) + ' (Right bar). 50% of the ratings (Blue) are between ' + str(round(q1, 1)) + ' and ' + str(round(q2, 1)) + '.'\n",
    "    elif s_c['count'][i]==1:\n",
    "        s_c_text = s_c_text + ' The class <' + i + '> has an average rating of ' + str(round(mean, 1)) + ' (Red). There was only one rating in this class.'\n",
    "score_customer_text = 'Score-Customer Type Distribution:\\nThe score distribution is shown for the customer types ' + ', '.join(score_customer_class) + '. ' + s_c_text\n",
    "df_placeholder.loc[df_placeholder['Placeholder']=='{{Score_Customer}}','Content']=score_customer_text"
   ]
  },
  {
   "cell_type": "code",
   "execution_count": null,
   "id": "d638d152-8fc0-4ce3-a87e-f1e7f0fa4c29",
   "metadata": {},
   "outputs": [],
   "source": [
    "# create Boxplot\n",
    "plt.figure(figsize=(8, 6))\n",
    "sns.boxplot(x='Score', y=[label.replace(' ','\\n') for label in df_sub_46_gen['Customer_Type']], data=df_sub_46_gen, color=\"lightblue\",\n",
    "            linecolor=\"black\",\n",
    "           medianprops={\"color\": \"r\", \"linewidth\": 2})\n",
    "\n",
    "plt.xlabel('Score')\n",
    "plt.ylabel(\"\")\n",
    "plt.xticks(rotation=0)\n",
    "plt.savefig('../'+str(id)+\"/Week_\"+str(week)+\"/score_customer.png\")\n",
    "plt.show()\n"
   ]
  },
  {
   "cell_type": "markdown",
   "id": "1ff4126e-e5dc-4d4d-b205-737ea0bc1113",
   "metadata": {},
   "source": [
    "## Comparison"
   ]
  },
  {
   "cell_type": "markdown",
   "id": "7e508895-09ad-4900-91c1-3d22245a3968",
   "metadata": {},
   "source": [
    "### Score x Room Category"
   ]
  },
  {
   "cell_type": "code",
   "execution_count": null,
   "id": "399332ed-86de-4fde-b7c6-d7bc4d6417e9",
   "metadata": {},
   "outputs": [],
   "source": [
    "a=df_sub_46_gen.groupby(\"Room_Name\")[\"Score\"].describe().copy()\n",
    "b=df_sub_45_gen.groupby(\"Room_Name\")[\"Score\"].describe().copy()"
   ]
  },
  {
   "cell_type": "code",
   "execution_count": null,
   "id": "0fd2077a-6eee-47f3-8732-6c80ccdc412e",
   "metadata": {},
   "outputs": [],
   "source": [
    "c=a-b# calculate the difference between the week 46 and 45"
   ]
  },
  {
   "cell_type": "code",
   "execution_count": null,
   "id": "bba47ce9-4fef-4127-b192-35a14f2c1b4a",
   "metadata": {},
   "outputs": [],
   "source": [
    "# create text for the graph\n",
    "d_r_text =''\n",
    "for i in c.index.tolist():\n",
    "    if (round(c['mean'][i],2)>0) or (round(c['mean'][i],2)<0):\n",
    "        d_r_text = d_r_text + 'The class <'+i+'> has on average '+str(round(c['mean'][i],2))+' Points'\n",
    "        if round(c['mean'][i],2) > 0:\n",
    "            d_r_text = d_r_text+' more than in the previous week. '\n",
    "        elif round(c['mean'][i],2) <0:\n",
    "            d_r_text = d_r_text+' less than in the previous week. '\n",
    "    elif round(c['mean'][i],2)==0:\n",
    "        d_r_text = d_r_text + 'The rating of class <'+i+'> did not changed to the previous week. '\n",
    "    elif math.isnan(round(c['mean'][i],2)):\n",
    "        d_r_text = d_r_text + 'For the class <'+i+'> there were no ratings given. '\n",
    "        "
   ]
  },
  {
   "cell_type": "code",
   "execution_count": null,
   "id": "346f0cb8-e658-4915-a4ac-e58bee5d277f",
   "metadata": {},
   "outputs": [],
   "source": [
    "diff_room = 'Score-Room Class Comparison:\\nThe following changes occurred for the room categories rated this week compared to last week: ' + d_r_text"
   ]
  },
  {
   "cell_type": "code",
   "execution_count": null,
   "id": "951acfbb-e13a-4323-bff4-421bf41bdc06",
   "metadata": {},
   "outputs": [],
   "source": [
    "# save data in placeholder dataframe\n",
    "df_placeholder.loc[df_placeholder['Placeholder']=='{{Diff_Room}}','Content']=diff_room"
   ]
  },
  {
   "cell_type": "code",
   "execution_count": null,
   "id": "cf6c7c34-5452-4286-8386-0746bc800ff6",
   "metadata": {},
   "outputs": [],
   "source": [
    "# Plotting the differences\n",
    "plt.figure(figsize=(8, 6))\n",
    "# Create a color array based on the value of the 'Difference' column\n",
    "colors = []\n",
    "for diff in c['mean']:\n",
    "    if diff < 0:\n",
    "        colors.append('red')  # for negative values\n",
    "        print(str(diff)+' red')\n",
    "    elif diff > 0:\n",
    "        colors.append('lightgreen')  # for positive values\n",
    "        print(str(diff)+' green')\n",
    "    elif math.isnan(diff):\n",
    "        colors.append('black')\n",
    "        \n",
    "bars=plt.bar([label.replace(' ','\\n') for label in c.index.tolist()], c[\"mean\"], color=colors)\n",
    "# Adding horizontal line at y=0\n",
    "plt.axhline(y=0, color='black', linestyle='--', linewidth=1)\n",
    "for bar in bars:\n",
    "    yval = bar.get_height() # Get the height of the bar (the value)\n",
    "    print(yval)\n",
    "    if not math.isnan(yval):\n",
    "        if yval > 0:\n",
    "            yval=\"+\"+str(round(yval,2))\n",
    "        elif yval<0:\n",
    "            yval=str(round(yval,2))\n",
    "        plt.text(bar.get_x() + bar.get_width() / 2, 0,  # Position the text\n",
    "                    yval,  # Display the rounded value\n",
    "                    ha='center',  # Horizontal alignment of the text\n",
    "                    va='bottom',  # Vertical alignment of the text\n",
    "                    color='black' if yval != 0 else 'white',  # Text color based on the value\n",
    "                    fontweight='bold',  # Make the text bold\n",
    "                    fontsize=16)  # Set the font size to 12 pt\n",
    "\n",
    "# Set y-axis limit\n",
    "plt.ylim(-10,10) \n",
    "plt.savefig('../'+str(id)+\"/Week_\"+str(week)+\"/diff_room.png\")\n",
    "# Display the plot\n",
    "plt.show()\n"
   ]
  },
  {
   "cell_type": "markdown",
   "id": "d3634489-6f64-40c6-ba82-c528d0afdc03",
   "metadata": {},
   "source": [
    "### Score x Travel Purpose"
   ]
  },
  {
   "cell_type": "code",
   "execution_count": null,
   "id": "48f2d548-a5cd-48f7-b0c8-0cf7a26eaa1c",
   "metadata": {},
   "outputs": [],
   "source": [
    "d=df_sub_46_gen.groupby(\"Travel_Purpose\")[\"Score\"].describe().copy()\n",
    "e=df_sub_45_gen.groupby(\"Travel_Purpose\")[\"Score\"].describe().copy()"
   ]
  },
  {
   "cell_type": "code",
   "execution_count": null,
   "id": "0207a18d-5f31-4e17-ba2d-c11795c18f13",
   "metadata": {},
   "outputs": [],
   "source": [
    "f=d-e # calculate the difference\n",
    "f[\"mean\"]\n",
    "f.index.tolist()"
   ]
  },
  {
   "cell_type": "code",
   "execution_count": null,
   "id": "ae760c92-532f-4f4b-807f-97d50b01bc45",
   "metadata": {},
   "outputs": [],
   "source": [
    "# create text explanation\n",
    "d_t_text =''\n",
    "for i in f.index.tolist():\n",
    "    if (round(f['mean'][i],2)>0) or (round(f['mean'][i],2)<0):\n",
    "        d_t_text = d_t_text + 'The class <'+i+'> has on average '+str(round(f['mean'][i],2))+' points'\n",
    "        if round(f['mean'][i],2) > 0:\n",
    "            d_t_text = d_t_text+' more than in the previous week. '\n",
    "        elif round(f['mean'][i],2) <0:\n",
    "            d_t_text = d_t_text+' less than in the previous week. '\n",
    "    elif round(f['mean'][i],2)==0:\n",
    "        d_t_text = d_t_text + 'The rating of the class <'+i+'> did not changed to the previous week. '\n",
    "    elif math.isnan(round(f['mean'][i],2)):\n",
    "        d_t_text = d_t_text + 'For the class <'+i+'> there were not any ratings given. '\n",
    "diff_travel = 'Score-Travel Purpose Comparison:\\nThe following changes occurred in the ratings based on the travel purpose compared to last week: ' + d_t_text\n",
    "df_placeholder.loc[df_placeholder['Placeholder']=='{{Diff_Travel}}','Content']=diff_travel"
   ]
  },
  {
   "cell_type": "code",
   "execution_count": null,
   "id": "3cb52ea4-330c-490f-95a4-754afa9c09fc",
   "metadata": {},
   "outputs": [],
   "source": [
    "# Plotting the differences\n",
    "plt.figure(figsize=(8, 6))\n",
    "# Create a color array based on the value of the 'Difference' column\n",
    "colors = []\n",
    "for diff in f['mean']:\n",
    "    if diff < 0:\n",
    "        colors.append('red')  # für negative Werte\n",
    "    elif diff > 0.0:\n",
    "        colors.append('lightgreen')  # für positive Werte\n",
    "    elif math.isnan(diff):\n",
    "        colors.append('black')\n",
    "        \n",
    "bars=plt.bar([label.replace(' ','\\n') for label in f.index.tolist()], f[\"mean\"], color=colors)\n",
    "# Adding horizontal line at y=0\n",
    "plt.axhline(y=0, color='black', linestyle='--', linewidth=1)\n",
    "for bar in bars:\n",
    "    yval = bar.get_height() # Get the height of the bar (the value)\n",
    "    if yval > 0:\n",
    "        yval=\"+\"+str(round(yval,2))\n",
    "    else:\n",
    "        yval=str(round(yval,2))\n",
    "    plt.text(bar.get_x() + bar.get_width() / 2, 0,  # Position the text\n",
    "             yval,  # Display the rounded value\n",
    "             ha='center',  # Horizontal alignment of the text\n",
    "             va='bottom',  # Vertical alignment of the text\n",
    "             color='black' if yval != 0 else 'white',  # Text color based on the value\n",
    "             fontweight='bold',  # Make the text bold\n",
    "             fontsize=16)  # Set the font size to 12 pt\n",
    "\n",
    "# Set y axis\n",
    "plt.ylim(-10,10) \n",
    "plt.savefig('../'+str(id)+\"/Week_\"+str(week)+\"/diff_travel.png\")\n",
    "# Display the plot\n",
    "plt.show()"
   ]
  },
  {
   "cell_type": "markdown",
   "id": "e51ec2bb-cdd8-4f82-a6f6-3f2596c0109d",
   "metadata": {},
   "source": [
    "### Score x Customer Type"
   ]
  },
  {
   "cell_type": "code",
   "execution_count": null,
   "id": "ccec1876-a787-494e-b3b7-e2a4414467ad",
   "metadata": {},
   "outputs": [],
   "source": [
    "u=df_sub_46_gen.groupby(\"Customer_Type\")[\"Score\"].describe().copy()\n",
    "p=df_sub_45_gen.groupby(\"Customer_Type\")[\"Score\"].describe().copy()"
   ]
  },
  {
   "cell_type": "code",
   "execution_count": null,
   "id": "47bc977c-3e85-40bd-8d59-d7fa7ee72497",
   "metadata": {},
   "outputs": [],
   "source": [
    "r=[]\n",
    "t=(u-p)\n",
    "r=t[\"mean\"].dropna() # difference between weeks\n",
    "r"
   ]
  },
  {
   "cell_type": "code",
   "execution_count": null,
   "id": "bde2f422-3109-4989-8d86-dcd9fac74edb",
   "metadata": {},
   "outputs": [],
   "source": [
    "# create text\n",
    "d_c_text =''\n",
    "for i in t.index.tolist():\n",
    "    if (round(t['mean'][i],2)>0) or (round(t['mean'][i],2)<0):\n",
    "        d_c_text = d_c_text + 'The class <'+i+'> has on average  '+str(round(t['mean'][i],2))+' points'\n",
    "        if round(t['mean'][i],2) > 0:\n",
    "            d_c_text = d_c_text+' more than the previous week. '\n",
    "        elif round(t['mean'][i],2) <0:\n",
    "            d_c_text = d_c_text+' less than the previous week. '\n",
    "    elif round(t['mean'][i],2)==0:\n",
    "        d_c_text = d_c_text + 'The ratings of the class'+i+' did not changed. '\n",
    "    elif math.isnan(round(t['mean'][i],2)):\n",
    "        d_c_text = d_c_text + 'For the class'+i+' there were no ratings given. '\n",
    "diff_customer = 'Score-Customer Type Comparison:\\nThe ratings by customer type have changed as follows compared to last week: ' + d_c_text\n",
    "df_placeholder.loc[df_placeholder['Placeholder']=='{{Diff_Customer}}','Content']=diff_customer"
   ]
  },
  {
   "cell_type": "code",
   "execution_count": null,
   "id": "f0d70ba5-a6bf-4063-8d47-58a8ce153a8d",
   "metadata": {},
   "outputs": [],
   "source": [
    "# Plotting the differences\n",
    "plt.figure(figsize=(8, 6))\n",
    "# Create a color array based on the value of the 'Difference' column\n",
    "colors = []\n",
    "for diff in r:\n",
    "    if diff < 0:\n",
    "        colors.append('red')  # für negative Werte\n",
    "    elif diff > 0.0:\n",
    "        colors.append('lightgreen')  # für positive Werte\n",
    "    elif math.isnan(diff):\n",
    "        colors.append('black')\n",
    "bars=plt.bar([label.replace(' ','\\n') for label in r.index.tolist()], r, color=colors)\n",
    "# Adding horizontal line at y=0\n",
    "plt.axhline(y=0, color='black', linestyle='--', linewidth=1)\n",
    "for bar in bars:\n",
    "    yval = bar.get_height() # Get the height of the bar (the value)\n",
    "    if yval > 0:\n",
    "        yval=\"+\"+str(round(yval,2))\n",
    "    else:\n",
    "        yval=str(round(yval,2))\n",
    "    plt.text(bar.get_x() + bar.get_width() / 2, 0,  # Position the text\n",
    "             yval,  # Display the rounded value\n",
    "             ha='center',  # Horizontal alignment of the text\n",
    "             va='bottom',  # Vertical alignment of the text\n",
    "             color='black' if yval != 0 else 'white',  # Text color based on the value\n",
    "             fontweight='bold',  # Make the text bold\n",
    "             fontsize=16)  # Set the font size to 12 pt\n",
    "\n",
    "plt.ylim(-10,10)\n",
    "plt.savefig('../'+str(id)+\"/Week_\"+str(week)+\"/diff_customer.png\")\n",
    "# Display the plot\n",
    "plt.show()\n"
   ]
  },
  {
   "cell_type": "markdown",
   "id": "a8187b6a-8009-48e7-8eb5-8ed6a1d0c38d",
   "metadata": {},
   "source": [
    "## Sentiment Analysis"
   ]
  },
  {
   "cell_type": "markdown",
   "id": "4c0f8a2e-0d83-4136-8fe6-9e77e2e272a3",
   "metadata": {},
   "source": [
    "### Positive Stack"
   ]
  },
  {
   "cell_type": "code",
   "execution_count": null,
   "id": "753f6ddf-3102-4dad-a966-cc8c2d8110b7",
   "metadata": {},
   "outputs": [],
   "source": [
    "def stack(sonst,bad,room,amen,bar,comf,food,loc,well,price,service,ind):\n",
    "    # create DataFrame\n",
    "    labels=[\"Pos_Sonst\",\"Pos_Bad\",\"Pos_Room\",\"Pos_Amenities\",\"Pos_Bar\",\"Pos_Comfort\",\"Pos_Food\",\"Pos_Location\",\"Pos_Wellness\",\"Pos_Price\",\"Pos_Service\"]\n",
    "    df = pd.DataFrame({\"Pos_Sonst\":sonst,\n",
    "                       \"Pos_Bad\":bad,\n",
    "                       \"Pos_Room\":room,\n",
    "                       \"Pos_Amenities\":amen,\n",
    "                       \"Pos_Bar\":bar,\n",
    "                       \"Pos_Comfort\":comf,\n",
    "                       \"Pos_Food\":food,\n",
    "                       \"Pos_Location\":loc,\n",
    "                       \"Pos_Wellness\":well,\n",
    "                       \"Pos_Price\":price,\n",
    "                       \"Pos_Service\":service},\n",
    "                      index=[label.replace(' ','\\n') for label in ind])\n",
    "    # Normalize the data: scale each row to sum to 1\n",
    "    df_normalized = df.div(df.sum(axis=1), axis=0)\n",
    "    # create stacked bar chart for monthly temperatures\n",
    "    df_normalized.plot(kind='bar', stacked=True)\n",
    "    plt.legend(labels, loc=\"upper right\", title=\"Kategorien\")\n",
    "    # labels for x & y axis\n",
    "    #plt.xlabel('Months')\n",
    "    plt.xticks(rotation=0)\n",
    "    #plt.ylabel('Temp ranges in Degree Celsius')\n",
    "    plt.savefig('../'+str(id)+\"/Week_\"+str(week)+\"/pos_stack_room.png\",bbox_inches='tight')\n",
    "    # title of plot\n",
    "    #plt.title('Monthly Temperatures in a year')"
   ]
  },
  {
   "cell_type": "code",
   "execution_count": null,
   "id": "6f267a07-f0e9-4df8-8ad7-a403825c649f",
   "metadata": {},
   "outputs": [],
   "source": [
    "sonst=[]\n",
    "bad=[]\n",
    "room=[]\n",
    "amen=[]\n",
    "bar=[]\n",
    "comf=[]\n",
    "food=[]\n",
    "loc=[]\n",
    "well=[]\n",
    "price=[]\n",
    "service=[]\n",
    "ind=[]\n",
    "l=len(df_sub_46_gen[\"Room_Name\"].value_counts().index.tolist())\n",
    "for i in df_sub_46_gen[\"Room_Name\"].value_counts().index.tolist():\n",
    "    count2=df_sub_46_gen[(df_sub_46_gen[\"Room_Name\"]==i)][[\"Pos_Sonst\",\"Pos_Bad\",\"Pos_Room\",\"Pos_Amenities\",\"Pos_Bar\",\"Pos_Comfort\",\"Pos_Food\",\"Pos_Location\",\"Pos_Wellness\",\"Pos_Price\",\"Pos_Service\"]].copy()\n",
    "    if count2[\"Pos_Sonst\"].max()==1:\n",
    "        sonst.append(count2[\"Pos_Sonst\"].sum())\n",
    "    else:\n",
    "        sonst.append(0)\n",
    "    if count2[\"Pos_Bad\"].max()==1:\n",
    "        bad.append(count2[\"Pos_Bad\"].sum())\n",
    "    else:\n",
    "        bad.append(0)\n",
    "    if count2[\"Pos_Room\"].max()==1:\n",
    "        room.append(count2[\"Pos_Room\"].sum())\n",
    "    else:\n",
    "        room.append(0)\n",
    "    if count2[\"Pos_Amenities\"].max()==1:\n",
    "        amen.append(count2[\"Pos_Amenities\"].sum())\n",
    "    else:\n",
    "        amen.append(0)\n",
    "    if count2[\"Pos_Bar\"].max()==1:\n",
    "        bar.append(count2[\"Pos_Bar\"].sum())\n",
    "    else:\n",
    "        bar.append(0)\n",
    "    if count2[\"Pos_Comfort\"].max()==1:\n",
    "        comf.append(count2[\"Pos_Comfort\"].sum())\n",
    "    else:\n",
    "        comf.append(0)\n",
    "    if count2[\"Pos_Food\"].max()==1:\n",
    "        food.append(count2[\"Pos_Food\"].sum())\n",
    "    else:\n",
    "        food.append(0)\n",
    "    if count2[\"Pos_Location\"].max()==1:\n",
    "        loc.append(count2[\"Pos_Location\"].sum())\n",
    "    else:\n",
    "        loc.append(0)\n",
    "    if count2[\"Pos_Wellness\"].max()==1:\n",
    "        well.append(count2[\"Pos_Wellness\"].sum())\n",
    "    else:\n",
    "        well.append(0)\n",
    "    if count2[\"Pos_Price\"].max()==1:\n",
    "        price.append(count2[\"Pos_Price\"].sum())\n",
    "    else:\n",
    "        price.append(0)\n",
    "    if count2[\"Pos_Service\"].max()==1:\n",
    "        service.append(count2[\"Pos_Service\"].sum())\n",
    "    else:\n",
    "        service.append(0)\n",
    "    ind.append(i)\n",
    "sonst.extend([float('nan'),float('nan'),float('nan')])\n",
    "bad.extend([float('nan'),float('nan'),float('nan')])\n",
    "room.extend([float('nan'),float('nan'),float('nan')])\n",
    "amen.extend([float('nan'),float('nan'),float('nan')])\n",
    "bar.extend([float('nan'),float('nan'),float('nan')])\n",
    "comf.extend([float('nan'),float('nan'),float('nan')])\n",
    "food.extend([float('nan'),float('nan'),float('nan')])\n",
    "loc.extend([float('nan'),float('nan'),float('nan')])\n",
    "well.extend([float('nan'),float('nan'),float('nan')])\n",
    "price.extend([float('nan'),float('nan'),float('nan')])\n",
    "service.extend([float('nan'),float('nan'),float('nan')])\n",
    "ind.extend(['','',''])\n",
    "stack(sonst,bad,room,amen,bar,comf,food,loc,well,price,service,ind)"
   ]
  },
  {
   "cell_type": "markdown",
   "id": "88ece251-1704-411f-97ce-ef2112c36db6",
   "metadata": {},
   "source": [
    "### Negative Stack"
   ]
  },
  {
   "cell_type": "code",
   "execution_count": null,
   "id": "37644328-276f-4b4f-b7f6-c57471981d6c",
   "metadata": {},
   "outputs": [],
   "source": [
    "def stack(sonst,bad,room,amen,bar,comf,food,loc,well,price,service,ind):\n",
    "    # create DataFrame\n",
    "    labels=[\"Neg_Sonst\",\"Neg_Bad\",\"Neg_Room\",\"Neg_Amenities\",\"Neg_Bar\",\"Neg_Comfort\",\"Neg_Food\",\"Neg_Location\",\"Neg_Wellness\",\"Neg_Price\",\"Neg_Service\"]\n",
    "    df = pd.DataFrame({\"Neg_Sonst\":sonst,\n",
    "                       \"Neg_Bad\":bad,\n",
    "                       \"Neg_Room\":room,\n",
    "                       \"Neg_Amenities\":amen,\n",
    "                       \"Neg_Bar\":bar,\n",
    "                       \"Neg_Comfort\":comf,\n",
    "                       \"Neg_Food\":food,\n",
    "                       \"Neg_Location\":loc,\n",
    "                       \"Neg_Wellness\":well,\n",
    "                       \"Neg_Price\":price,\n",
    "                       \"Neg_Service\":service},\n",
    "                      index=[label.replace(' ','\\n') for label in ind])\n",
    "    # Normalize the data: scale each row to sum to 1\n",
    "    df_normalized = df.div(df.sum(axis=1), axis=0)\n",
    "    # create stacked bar chart for monthly temperatures\n",
    "    df_normalized.plot(kind='bar', stacked=True)\n",
    "    plt.legend(labels, loc=\"upper right\", title=\"Kategorien\")\n",
    "    #bbox_to_anchor=(1, 0.5)\n",
    "    # labels for x & y axis\n",
    "    #plt.xlabel('Months')\n",
    "    plt.xticks(rotation=0)\n",
    "    #plt.ylabel('Temp ranges in Degree Celsius')\n",
    "    plt.savefig('../'+str(id)+\"/Week_\"+str(week)+\"/neg_stack_room.png\",bbox_inches='tight')\n",
    "    # title of plot\n",
    "    #plt.title('Monthly Temperatures in a year')"
   ]
  },
  {
   "cell_type": "code",
   "execution_count": null,
   "id": "b16e23ae-ebd6-4829-a1dd-cc2d4b3813a1",
   "metadata": {},
   "outputs": [],
   "source": [
    "sonst=[]\n",
    "bad=[]\n",
    "room=[]\n",
    "amen=[]\n",
    "bar=[]\n",
    "comf=[]\n",
    "food=[]\n",
    "loc=[]\n",
    "well=[]\n",
    "price=[]\n",
    "service=[]\n",
    "ind=[]\n",
    "l=len(df_sub_45_gen[\"Room_Name\"].value_counts().index.tolist())\n",
    "for i in df_sub_45_gen[\"Room_Name\"].value_counts().index.tolist():\n",
    "    count2=df_sub_45_gen[(df_sub_45_gen[\"Room_Name\"]==i)][[\"Neg_Sonst\",\"Neg_Bad\",\"Neg_Room\",\"Neg_Amenities\",\"Neg_Bar\",\"Neg_Comfort\",\"Neg_Food\",\"Neg_Location\",\"Neg_Wellness\",\"Neg_Price\",\"Neg_Service\"]].copy()\n",
    "    if count2[\"Neg_Sonst\"].max()==1:\n",
    "        sonst.append(count2[\"Neg_Sonst\"].sum())\n",
    "    else:\n",
    "        sonst.append(0)\n",
    "    if count2[\"Neg_Bad\"].max()==1:\n",
    "        bad.append(count2[\"Neg_Bad\"].sum())\n",
    "    else:\n",
    "        bad.append(0)\n",
    "    if count2[\"Neg_Room\"].max()==1:\n",
    "        room.append(count2[\"Neg_Room\"].sum())\n",
    "    else:\n",
    "        room.append(0)\n",
    "    if count2[\"Neg_Amenities\"].max()==1:\n",
    "        amen.append(count2[\"Neg_Amenities\"].sum())\n",
    "    else:\n",
    "        amen.append(0)\n",
    "    if count2[\"Neg_Bar\"].max()==1:\n",
    "        bar.append(count2[\"Neg_Bar\"].sum())\n",
    "    else:\n",
    "        bar.append(0)\n",
    "    if count2[\"Neg_Comfort\"].max()==1:\n",
    "        comf.append(count2[\"Neg_Comfort\"].sum())\n",
    "    else:\n",
    "        comf.append(0)\n",
    "    if count2[\"Neg_Food\"].max()==1:\n",
    "        food.append(count2[\"Neg_Food\"].sum())\n",
    "    else:\n",
    "        food.append(0)\n",
    "    if count2[\"Neg_Location\"].max()==1:\n",
    "        loc.append(count2[\"Neg_Location\"].sum())\n",
    "    else:\n",
    "        loc.append(0)\n",
    "    if count2[\"Neg_Wellness\"].max()==1:\n",
    "        well.append(count2[\"Neg_Wellness\"].sum())\n",
    "    else:\n",
    "        well.append(0)\n",
    "    if count2[\"Neg_Price\"].max()==1:\n",
    "        price.append(count2[\"Neg_Price\"].sum())\n",
    "    else:\n",
    "        price.append(0)\n",
    "    if count2[\"Neg_Service\"].max()==1:\n",
    "        service.append(count2[\"Neg_Service\"].sum())\n",
    "    else:\n",
    "        service.append(0)\n",
    "    ind.append(i)\n",
    "sonst.extend([float('nan'),float('nan'),float('nan')])\n",
    "bad.extend([float('nan'),float('nan'),float('nan')])\n",
    "room.extend([float('nan'),float('nan'),float('nan')])\n",
    "amen.extend([float('nan'),float('nan'),float('nan')])\n",
    "bar.extend([float('nan'),float('nan'),float('nan')])\n",
    "comf.extend([float('nan'),float('nan'),float('nan')])\n",
    "food.extend([float('nan'),float('nan'),float('nan')])\n",
    "loc.extend([float('nan'),float('nan'),float('nan')])\n",
    "well.extend([float('nan'),float('nan'),float('nan')])\n",
    "price.extend([float('nan'),float('nan'),float('nan')])\n",
    "service.extend([float('nan'),float('nan'),float('nan')])\n",
    "ind.extend(['','',''])\n",
    "stack(sonst,bad,room,amen,bar,comf,food,loc,well,price,service,ind)"
   ]
  },
  {
   "cell_type": "markdown",
   "id": "68abbba9-c39e-4cde-889b-150a126ad9fd",
   "metadata": {},
   "source": [
    "# Saving Placeholder DataFrame in Excel File"
   ]
  },
  {
   "cell_type": "code",
   "execution_count": null,
   "id": "d3bbb8ea-6759-4b2b-9ce5-c992071caea7",
   "metadata": {},
   "outputs": [],
   "source": [
    "# Save new Dataframe\n",
    "placeholder_path='../'+str(id)+\"/Week_\"+str(week)+\"/placeholder_week_\"+str(week)+\"_id_\"+str(id)\n",
    "df_placeholder.to_excel(placeholder_path+\".xlsx\")"
   ]
  }
 ],
 "metadata": {
  "kernelspec": {
   "display_name": "Python 3 (ipykernel)",
   "language": "python",
   "name": "python3"
  },
  "language_info": {
   "codemirror_mode": {
    "name": "ipython",
    "version": 3
   },
   "file_extension": ".py",
   "mimetype": "text/x-python",
   "name": "python",
   "nbconvert_exporter": "python",
   "pygments_lexer": "ipython3",
   "version": "3.12.1"
  }
 },
 "nbformat": 4,
 "nbformat_minor": 5
}
