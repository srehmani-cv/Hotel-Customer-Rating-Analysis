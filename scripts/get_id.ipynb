{
 "cells": [
  {
   "cell_type": "code",
   "execution_count": null,
   "id": "ab398062-a040-41ec-a935-88eea0ce603e",
   "metadata": {},
   "outputs": [],
   "source": [
    "# Test the Status of BookingAPI via RapidAPI\n",
    "import http.client\n",
    "\n",
    "conn = http.client.HTTPSConnection(\"booking-com15.p.rapidapi.com\")\n",
    "\n",
    "key=\"PUT HERE YOUR KEY\"\n",
    "\n",
    "headers = {\n",
    "    'x-rapidapi-key': key,\n",
    "    'x-rapidapi-host': \"booking-com15.p.rapidapi.com\"\n",
    "}\n",
    "\n",
    "conn.request(\"GET\", \"/api/v1/test\", headers=headers)\n",
    "\n",
    "#API response\n",
    "res = conn.getresponse()\n",
    "data = res.read()\n",
    "\n",
    "#print the API status\n",
    "print(data.decode(\"utf-8\"))"
   ]
  },
  {
   "cell_type": "code",
   "execution_count": null,
   "id": "57fa41d7-d404-48f1-95e1-d74b84c9e372",
   "metadata": {},
   "outputs": [],
   "source": [
    "#search for destination id\n",
    "city='tokyo'\n",
    "conn.request(\"GET\", \"/api/v1/hotels/searchDestination?query=\"+city, headers=headers)\n",
    "\n",
    "res = conn.getresponse()\n",
    "data = res.read()\n",
    "\n",
    "#Print the possible destination in tokyo\n",
    "print(data.decode(\"utf-8\"))\n",
    "\n",
    "#--> destination-id = -246227"
   ]
  },
  {
   "cell_type": "code",
   "execution_count": null,
   "id": "997a1023-51d8-46dc-af1f-75b178aff78f",
   "metadata": {},
   "outputs": [],
   "source": [
    "#Search in Json for the Hotelname\n",
    "key_value=[]\n",
    "key_id=[]"
   ]
  },
  {
   "cell_type": "code",
   "execution_count": null,
   "id": "42a3c282-fc0c-4b1e-a1ec-b4a52565844e",
   "metadata": {},
   "outputs": [],
   "source": [
    "conn = http.client.HTTPSConnection(\"booking-com15.p.rapidapi.com\")\n",
    "\n",
    "page=1\n",
    "dest_id=-246227\n",
    "conn.request(\"GET\", \"/api/v1/hotels/searchHotels?dest_id=\"+str(dest_id)+\"&search_type=City&arrival_date=2025-05-13&departure_date=2025-05-14&adults=1&children_age=0%2C17&room_qty=1&page_number=\"+str(page)+\"&units=metric&temperature_unit=c&currency_code=AED\", headers=headers)\n",
    "\n",
    "res = conn.getresponse()\n",
    "data = res.read()\n",
    "# converting the responce in JSON\n",
    "import json\n",
    "response = json.loads(data.decode(\"utf-8\"))\n",
    "\n",
    "#print the Hotelnames + Hotel_ID\n",
    "for i in range(0,len(response[\"data\"][\"hotels\"])):\n",
    "    key_value.append(response['data']['hotels'][i]['accessibilityLabel'].split(\"\\n\")[0])\n",
    "    key_id.append(response[\"data\"][\"hotels\"][i][\"hotel_id\"])\n",
    "    print(key_value[i] +\" Hotel-ID:\"+str(key_id[i]))  # gibt \"text\" aus"
   ]
  },
  {
   "cell_type": "code",
   "execution_count": null,
   "id": "9daf3f03-42f5-451c-b9ec-8c1e15103de4",
   "metadata": {},
   "outputs": [],
   "source": [
    "#Safe the Hotelnames + Hotel_ID in a dataframe\n",
    "import pandas as pd\n",
    "\n",
    "d = {\n",
    "    'Hotel Name': key_value,\n",
    "    'Hotel ID': key_id\n",
    "}\n",
    "df = pd.DataFrame(d).reset_index(drop=True)\n",
    "df.shape"
   ]
  },
  {
   "cell_type": "code",
   "execution_count": null,
   "id": "d6fb8988-665c-4053-b4e9-f86656039aa9",
   "metadata": {},
   "outputs": [],
   "source": [
    "# Safe the dataframe with the Hotelnames + Hotel_ID \n",
    "# in an Excel File\n",
    "city='Tokyo'\n",
    "df.to_excel(\"Hotel_ID_\"+city+\".xlsx\", index=False)"
   ]
  }
 ],
 "metadata": {
  "kernelspec": {
   "display_name": "Python 3 (ipykernel)",
   "language": "python",
   "name": "python3"
  },
  "language_info": {
   "codemirror_mode": {
    "name": "ipython",
    "version": 3
   },
   "file_extension": ".py",
   "mimetype": "text/x-python",
   "name": "python",
   "nbconvert_exporter": "python",
   "pygments_lexer": "ipython3",
   "version": "3.12.1"
  }
 },
 "nbformat": 4,
 "nbformat_minor": 5
}
