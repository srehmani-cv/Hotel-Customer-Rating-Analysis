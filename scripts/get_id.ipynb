{
 "cells": [
  {
   "cell_type": "code",
   "execution_count": 2,
   "id": "ab398062-a040-41ec-a935-88eea0ce603e",
   "metadata": {},
   "outputs": [
    {
     "name": "stdout",
     "output_type": "stream",
     "text": [
      "{\"status\":true,\"message\":\"Server is up and running\"}\n"
     ]
    }
   ],
   "source": [
    "# Test the Status of BookingAPI via RapidAPI\n",
    "import http.client\n",
    "\n",
    "conn = http.client.HTTPSConnection(\"booking-com15.p.rapidapi.com\")\n",
    "\n",
    "key=\"fa7db30c72msha31cdae2a0d06cap1c6cafjsne1a7adab71ae\"\n",
    "\n",
    "headers = {\n",
    "    'x-rapidapi-key': key,\n",
    "    'x-rapidapi-host': \"booking-com15.p.rapidapi.com\"\n",
    "}\n",
    "\n",
    "conn.request(\"GET\", \"/api/v1/test\", headers=headers)\n",
    "\n",
    "#API response\n",
    "res = conn.getresponse()\n",
    "data = res.read()\n",
    "\n",
    "#print the API status\n",
    "print(data.decode(\"utf-8\"))"
   ]
  },
  {
   "cell_type": "code",
   "execution_count": 3,
   "id": "57fa41d7-d404-48f1-95e1-d74b84c9e372",
   "metadata": {},
   "outputs": [
    {
     "name": "stdout",
     "output_type": "stream",
     "text": [
      "{\"message\":\"You have exceeded the MONTHLY quota for requests on your current plan, BASIC. Upgrade your plan at https:\\/\\/rapidapi.com\\/DataCrawler\\/api\\/booking-com15\"}\n"
     ]
    }
   ],
   "source": [
    "#search for destination id\n",
    "city='tokyo'\n",
    "conn.request(\"GET\", \"/api/v1/hotels/searchDestination?query=\"+city, headers=headers)\n",
    "\n",
    "res = conn.getresponse()\n",
    "data = res.read()\n",
    "\n",
    "#Print the possible destination in tokyo\n",
    "print(data.decode(\"utf-8\"))\n",
    "\n",
    "#--> destination-id = -246227"
   ]
  },
  {
   "cell_type": "code",
   "execution_count": 6,
   "id": "997a1023-51d8-46dc-af1f-75b178aff78f",
   "metadata": {},
   "outputs": [],
   "source": [
    "#Search in Json for the Hotelname\n",
    "key_value=[]\n",
    "key_id=[]"
   ]
  },
  {
   "cell_type": "code",
   "execution_count": 7,
   "id": "42a3c282-fc0c-4b1e-a1ec-b4a52565844e",
   "metadata": {},
   "outputs": [
    {
     "name": "stdout",
     "output_type": "stream",
     "text": [
      "Henn na Hotel Tokyo Haneda. Hotel-ID:2737665\n",
      "Hundred Stay Tokyo Shinjuku. Hotel-ID:277950\n",
      "Hotel JAL City Haneda Tokyo West Wing. Hotel-ID:1889644\n",
      "Comfort Hotel ERA Tokyo Higashi Kanda. Hotel-ID:2305841\n",
      "Henn na Hotel Tokyo Asakusa Tawaramachi. Hotel-ID:4817337\n",
      "The Royal Park Hotel Iconic Tokyo Shiodome. Hotel-ID:254889\n",
      "Hotel JAL City Tokyo Toyosu. Hotel-ID:4782178\n",
      "Daiwa Roynet Hotel Nishi-Shinjuku PREMIER. Hotel-ID:3521291\n",
      "Hotel Lumiere Nishikasai. Hotel-ID:555861\n",
      "Hotel Musse Ginza Meitetsu. Hotel-ID:2707868\n",
      "LOISIR HOTEL SHINAGAWA SEASIDE. Hotel-ID:7866568\n",
      "KOKO HOTEL Tsukiji Ginza. Hotel-ID:7359540\n",
      "Henn na Hotel Tokyo Asakusabashi. Hotel-ID:2737540\n",
      "The Peninsula Tokyo. Hotel-ID:440724\n",
      "La'gent Hotel Shinjuku Kabukicho. Hotel-ID:4633259\n",
      "The Prince Park Tower Tokyo - Preferred Hotels & Resorts, LVX Collection. Hotel-ID:277468\n",
      "Richmond Hotel Premier Tokyo Schole. Hotel-ID:1438021\n",
      "Royal Park Hotel. Hotel-ID:266428\n",
      "Grand Prince Hotel Shin Takanawa. Hotel-ID:277647\n",
      "Hotel Gracery Asakusa. Hotel-ID:3104773\n"
     ]
    }
   ],
   "source": [
    "conn = http.client.HTTPSConnection(\"booking-com15.p.rapidapi.com\")\n",
    "\n",
    "page=1\n",
    "dest_id=-246227\n",
    "conn.request(\"GET\", \"/api/v1/hotels/searchHotels?dest_id=\"+str(dest_id)+\"&search_type=City&arrival_date=2025-05-13&departure_date=2025-05-14&adults=1&children_age=0%2C17&room_qty=1&page_number=\"+str(page)+\"&units=metric&temperature_unit=c&currency_code=AED\", headers=headers)\n",
    "\n",
    "res = conn.getresponse()\n",
    "data = res.read()\n",
    "# converting the responce in JSON\n",
    "import json\n",
    "response = json.loads(data.decode(\"utf-8\"))\n",
    "\n",
    "#print the Hotelnames + Hotel_ID\n",
    "for i in range(0,len(response[\"data\"][\"hotels\"])):\n",
    "    key_value.append(response['data']['hotels'][i]['accessibilityLabel'].split(\"\\n\")[0])\n",
    "    key_id.append(response[\"data\"][\"hotels\"][i][\"hotel_id\"])\n",
    "    print(key_value[i] +\" Hotel-ID:\"+str(key_id[i]))  # gibt \"text\" aus"
   ]
  },
  {
   "cell_type": "code",
   "execution_count": 8,
   "id": "9daf3f03-42f5-451c-b9ec-8c1e15103de4",
   "metadata": {},
   "outputs": [
    {
     "data": {
      "text/plain": [
       "(20, 2)"
      ]
     },
     "execution_count": 8,
     "metadata": {},
     "output_type": "execute_result"
    }
   ],
   "source": [
    "#Safe the Hotelnames + Hotel_ID in a dataframe\n",
    "import pandas as pd\n",
    "\n",
    "d = {\n",
    "    'Hotel Name': key_value,\n",
    "    'Hotel ID': key_id\n",
    "}\n",
    "df = pd.DataFrame(d).reset_index(drop=True)\n",
    "df.shape"
   ]
  },
  {
   "cell_type": "code",
   "execution_count": 11,
   "id": "d6fb8988-665c-4053-b4e9-f86656039aa9",
   "metadata": {},
   "outputs": [],
   "source": [
    "# Safe the dataframe with the Hotelnames + Hotel_ID \n",
    "# in an Excel File\n",
    "city='Tokyo'\n",
    "df.to_excel(\"Hotel_ID_\"+city+\".xlsx\", index=False)"
   ]
  }
 ],
 "metadata": {
  "kernelspec": {
   "display_name": "Python 3 (ipykernel)",
   "language": "python",
   "name": "python3"
  },
  "language_info": {
   "codemirror_mode": {
    "name": "ipython",
    "version": 3
   },
   "file_extension": ".py",
   "mimetype": "text/x-python",
   "name": "python",
   "nbconvert_exporter": "python",
   "pygments_lexer": "ipython3",
   "version": "3.12.1"
  }
 },
 "nbformat": 4,
 "nbformat_minor": 5
}
