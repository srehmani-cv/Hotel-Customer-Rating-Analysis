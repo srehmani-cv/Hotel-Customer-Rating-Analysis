{
 "cells": [
  {
   "cell_type": "markdown",
   "id": "537012ca-1040-4381-becb-d94863f595a5",
   "metadata": {},
   "source": [
    "# Libraries"
   ]
  },
  {
   "cell_type": "code",
   "execution_count": 1,
   "id": "53668c5b-6b97-457e-a7b0-68049362c461",
   "metadata": {},
   "outputs": [],
   "source": [
    "#Load all important libraries\n",
    "import http.client\n",
    "import json\n",
    "from datetime import datetime\n",
    "import pandas as pd \n",
    "import matplotlib.pyplot as plt \n",
    "from openai import OpenAI\n",
    "import re\n",
    "import spacy\n",
    "import seaborn as sns\n",
    "import numpy as np\n",
    "from matplotlib.ticker import MaxNLocator\n",
    "import math"
   ]
  },
  {
   "cell_type": "markdown",
   "id": "fc546e6b-2fba-42f2-801d-d5ea5d006001",
   "metadata": {},
   "source": [
    "# Data Loading"
   ]
  },
  {
   "cell_type": "code",
   "execution_count": 2,
   "id": "88432a4a-9266-4c1a-b980-a1c33f770f45",
   "metadata": {},
   "outputs": [],
   "source": [
    "# Generating some example data\n",
    "week = 46\n",
    "month = 11\n",
    "monat = 'November'\n",
    "HotelName = 'Aparthotel Adagio Frankfurt City Messe'\n",
    "City = 'Frankfurt'\n",
    "Street = 'Hamburger Allee 4 '\n",
    "id = 1758394 # this is hotel_id"
   ]
  },
  {
   "cell_type": "code",
   "execution_count": 3,
   "id": "4622a83c-70df-4699-b824-0c33cc6794bf",
   "metadata": {},
   "outputs": [],
   "source": [
    "#Load the Data_Frames: General, Placeholder, Neg, Pos\n",
    "df_gen = pd.read_excel('../'+str(id)+\"/General \"+str(id)+\".xlsx\")\n",
    "df_neg = pd.read_excel('../'+str(id)+\"/Neg \"+str(id)+\".xlsx\")\n",
    "df_pos = pd.read_excel('../'+str(id)+\"/Pos \"+str(id)+\".xlsx\")\n",
    "df_placeholder = pd.read_excel('../'+str(id)+'/Month_'+str(month)+'/placeholder_month_'+str(month)+'_id_'+str(id)+'.xlsx')"
   ]
  },
  {
   "cell_type": "markdown",
   "id": "47be36d1-b793-4be1-88b9-c4953988152c",
   "metadata": {},
   "source": [
    "# Process Data only October and November"
   ]
  },
  {
   "cell_type": "code",
   "execution_count": 4,
   "id": "9e5c2400-100b-4bb8-9a09-0c10c578b000",
   "metadata": {},
   "outputs": [],
   "source": [
    "# Take only Cells from Nov Comments\n",
    "df_gen['Woche'] = df_gen['Comment_Date'].dt.isocalendar().week\n",
    "df_gen['Month'] = df_gen['Comment_Date'].dt.month"
   ]
  },
  {
   "cell_type": "code",
   "execution_count": 5,
   "id": "29822eb3-8e51-4ce9-a50a-3cc5d46f4aea",
   "metadata": {},
   "outputs": [],
   "source": [
    "# Oktober / november: Monthly Highlights\n",
    "df_sub_month_gen=df_gen[(df_gen['Month']==month)].copy() #<---- Brauche Nicht\n",
    "df_sub_pmonth_gen=df_gen[(df_gen['Month']==month-1)].copy() #<---- Für Monthly Highlights"
   ]
  },
  {
   "cell_type": "code",
   "execution_count": 6,
   "id": "15e4708b-13b2-4ffa-8850-80fbd8eb83e7",
   "metadata": {},
   "outputs": [
    {
     "name": "stdout",
     "output_type": "stream",
     "text": [
      "40\n",
      "23\n"
     ]
    }
   ],
   "source": [
    "print(len(df_sub_pmonth_gen))\n",
    "print(len(df_sub_month_gen))"
   ]
  },
  {
   "cell_type": "code",
   "execution_count": 7,
   "id": "8f7aacea-260d-400d-be6b-1d3b49c86e46",
   "metadata": {},
   "outputs": [],
   "source": [
    "# Take only Cells from 4.Nov to 10.Nov Comments\n",
    "df_pos['Month'] = df_pos['Date'].dt.month\n",
    "# Oktober / November: Monthly Highlights\n",
    "df_sub_month_pos=df_pos[(df_pos['Month']==month)].copy() #<---- Brauche Nicht\n",
    "df_sub_pmonth_pos=df_pos[(df_pos['Month']==month-1)].copy() #<---- Für Monthly Highlights"
   ]
  },
  {
   "cell_type": "code",
   "execution_count": 8,
   "id": "17e36feb-20c3-44ac-a0c9-b56b346defb0",
   "metadata": {},
   "outputs": [],
   "source": [
    "# Take only Cells from 4.Nov to 10.Nov Comments\n",
    "df_neg['Month'] = df_neg['Date'].dt.month\n",
    "# Oktober / November: Monthly Highlights\n",
    "df_sub_month_neg=df_neg[(df_neg['Month']==month)].copy() #<---- Brauche Nicht\n",
    "df_sub_pmonth_neg=df_neg[(df_neg['Month']==month-1)].copy() #<---- Für Monthly Highlights"
   ]
  },
  {
   "cell_type": "markdown",
   "id": "cca2fe38-f7fd-45d2-87c4-9e0cfe7e6ca0",
   "metadata": {},
   "source": [
    "# Weekly Highlights"
   ]
  },
  {
   "cell_type": "markdown",
   "id": "8a4091e4-eca0-4728-a5a0-449bee3c7ce1",
   "metadata": {},
   "source": [
    "## Data Overview"
   ]
  },
  {
   "cell_type": "markdown",
   "id": "867b1ce0-d303-4a2b-b075-6a2bf7082bb4",
   "metadata": {},
   "source": [
    "### Score November / October"
   ]
  },
  {
   "cell_type": "code",
   "execution_count": 9,
   "id": "7098eb7a-ee0a-47ba-92c7-5e1c71d351ca",
   "metadata": {},
   "outputs": [
    {
     "data": {
      "text/plain": [
       "count    23.000000\n",
       "mean      8.782609\n",
       "std       1.241572\n",
       "min       5.000000\n",
       "25%       8.000000\n",
       "50%       9.000000\n",
       "75%      10.000000\n",
       "max      10.000000\n",
       "Name: Score, dtype: float64"
      ]
     },
     "execution_count": 9,
     "metadata": {},
     "output_type": "execute_result"
    }
   ],
   "source": [
    "# overview score\n",
    "df_sub_month_gen[\"Score\"].describe()\n",
    "df_sub_month_gen['Score'].value_counts()\n",
    "counts = df_sub_month_gen['Score'].value_counts().sum()"
   ]
  },
  {
   "cell_type": "code",
   "execution_count": 12,
   "id": "9b606dc1-cd9a-4fe3-9524-1ef6de0abf22",
   "metadata": {},
   "outputs": [
    {
     "data": {
      "text/plain": [
       "5.0"
      ]
     },
     "execution_count": 12,
     "metadata": {},
     "output_type": "execute_result"
    }
   ],
   "source": [
    "# Speicher für die Placeholder DF die nötigen Werte für den Text ab.\n",
    "score_min=df_sub_month_gen[\"Score\"].describe()['min']\n",
    "score_max=df_sub_month_gen[\"Score\"].describe()['max']\n",
    "score_mean=df_sub_month_gen[\"Score\"].describe()['mean']\n",
    "score_q1=df_sub_month_gen[\"Score\"].describe()['25%']\n",
    "score_q2=df_sub_month_gen[\"Score\"].describe()['75%']\n",
    "score_min"
   ]
  },
  {
   "cell_type": "code",
   "execution_count": 13,
   "id": "64a667c6-5ca3-4af4-94ca-f0b089d37f9c",
   "metadata": {},
   "outputs": [],
   "source": [
    "# Füge die Daten in dem Mustertext ein\n",
    "score_text = 'Score Distribution:\\nThe boxplot shows the distribution of scores. The lowest rating given was a ' + str(round(score_min)) + ', the highest rating given was a ' + str(round(score_max)) + '. The average rating is ' + str(round(score_mean, 2)) + ', with 50% of guests rating the hotel between ' + str(round(score_q1, 2)) + ' and ' + str(round(score_q2, 2)) + '.'"
   ]
  },
  {
   "cell_type": "code",
   "execution_count": 14,
   "id": "3abb8d20-25f1-425b-82bc-60d82638e60d",
   "metadata": {},
   "outputs": [],
   "source": [
    "# Speicher den Text in den Placeholder DataFrame\n",
    "df_placeholder.loc[df_placeholder[\"Placeholder\"]=='{{Score_Week}}','Content']=score_text"
   ]
  },
  {
   "cell_type": "code",
   "execution_count": 15,
   "id": "639f04e8-3f84-4ce5-856e-0a485708c810",
   "metadata": {},
   "outputs": [
    {
     "data": {
      "image/png": "[encoded data removed]",
      "text/plain": [
       "<Figure size 640x480 with 1 Axes>"
      ]
     },
     "metadata": {},
     "output_type": "display_data"
    }
   ],
   "source": [
    "# Create a box plot\n",
    "sns.boxplot(y='Score', data=df_sub_month_gen, color=\"lightblue\",\n",
    "            linecolor=\"black\",\n",
    "           medianprops={\"color\": \"r\", \"linewidth\": 2})\n",
    "\n",
    "# Add labels and title\n",
    "plt.ylabel('Score')\n",
    "plt.ylim(0,11)\n",
    "\n",
    "plt.savefig('../'+str(id)+\"/Month_\"+str(month)+\"/score.png\",bbox_inches='tight')\n",
    "# Show plot\n",
    "plt.show()\n"
   ]
  },
  {
   "cell_type": "code",
   "execution_count": 16,
   "id": "bde03a3c-b76c-4df8-9b07-ee3d5b86eecd",
   "metadata": {},
   "outputs": [
    {
     "data": {
      "text/plain": [
       "23"
      ]
     },
     "execution_count": 16,
     "metadata": {},
     "output_type": "execute_result"
    }
   ],
   "source": [
    "score_levels=[0]\n",
    "text=''\n",
    "j=0\n",
    "for i in range(1,11):\n",
    "    score_levels.append(df_sub_month_gen[\"Score\"].value_counts().get(i,0))\n",
    "    if score_levels[i] > 1:\n",
    "        text = text + 'The score level ' + str(i) + ' has received ' + str(score_levels[i]) + ' ratings (' + str(round(100 * score_levels[i] / counts, 1)) + '%). '\n",
    "    elif score_levels[i] == 1:\n",
    "        text = text + 'The score level ' + str(i) + ' has received one rating (' + str(round(100 * score_levels[i] / counts, 1)) + '%). '\n",
    "    else:\n",
    "        j=1\n",
    "if j==1:\n",
    "    text = text + 'No ratings were given for the other score levels.'\n",
    "sum(score_levels)        "
   ]
  },
  {
   "cell_type": "code",
   "execution_count": 17,
   "id": "4b0e0db8-36d8-419a-9f0f-0863f8a9898e",
   "metadata": {},
   "outputs": [],
   "source": [
    "score_level_text = 'Score-Level Distribution:\\nThe bar plot shows the score values for each score level. A total of ' + str(sum(score_levels)) + ' ratings were given. ' + text"
   ]
  },
  {
   "cell_type": "code",
   "execution_count": 18,
   "id": "4ac30d34-760b-439c-b10d-75b303d5059d",
   "metadata": {},
   "outputs": [],
   "source": [
    "# Speicher den Text in den Placeholder DataFrame\n",
    "df_placeholder.loc[df_placeholder[\"Placeholder\"]=='{{Score_Level_Week}}','Content']=score_level_text"
   ]
  },
  {
   "cell_type": "code",
   "execution_count": 19,
   "id": "a8690129-6631-4462-8279-a0369fa96e13",
   "metadata": {},
   "outputs": [
    {
     "data": {
      "image/png": "[encoded data removed]",
      "text/plain": [
       "<Figure size 800x600 with 1 Axes>"
      ]
     },
     "metadata": {},
     "output_type": "display_data"
    }
   ],
   "source": [
    "# Erstelle den Barplot\n",
    "plt.figure(figsize=(8, 6))  # Größe des Diagramms anpassen\n",
    "sns.barplot(df_sub_month_gen[\"Score\"].value_counts(), color='lightblue', legend=False)\n",
    "\n",
    "# Füge Titel und Labels hinzu\n",
    "#plt.title('Count der Score-Level')\n",
    "plt.xlabel('Score-Level')\n",
    "plt.ylabel('Counts')\n",
    "# Setze die y-Achse so, dass nur ganze Zahlen angezeigt werden\n",
    "plt.gca().yaxis.set_major_locator(MaxNLocator(integer=True))\n",
    "plt.savefig('../'+str(id)+\"/Month_\"+str(month)+\"/score_level.png\",bbox_inches='tight')\n",
    "# Zeige das Diagramm an\n",
    "plt.show()\n"
   ]
  },
  {
   "cell_type": "markdown",
   "id": "80566fd7-bee7-4d59-b86a-689b37aadc9c",
   "metadata": {},
   "source": [
    "### Customer Type Distribution"
   ]
  },
  {
   "cell_type": "code",
   "execution_count": 20,
   "id": "49e49593-bc16-4271-b19e-a3107798f31e",
   "metadata": {},
   "outputs": [
    {
     "data": {
      "text/plain": [
       "count                 23\n",
       "unique                 4\n",
       "top       Solo traveller\n",
       "freq                   7\n",
       "Name: Customer_Type, dtype: object"
      ]
     },
     "execution_count": 20,
     "metadata": {},
     "output_type": "execute_result"
    }
   ],
   "source": [
    "df_sub_month_gen[\"Customer_Type\"].describe()"
   ]
  },
  {
   "cell_type": "code",
   "execution_count": 21,
   "id": "e2203360-ffc6-492b-8687-02aa31cd765c",
   "metadata": {},
   "outputs": [
    {
     "data": {
      "text/plain": [
       "Customer_Type\n",
       "Solo traveller      7\n",
       "Group of friends    7\n",
       "Couple              5\n",
       "Family              4\n",
       "Name: count, dtype: int64"
      ]
     },
     "execution_count": 21,
     "metadata": {},
     "output_type": "execute_result"
    }
   ],
   "source": [
    "df_sub_month_gen[\"Customer_Type\"].value_counts()"
   ]
  },
  {
   "cell_type": "code",
   "execution_count": 22,
   "id": "8b7fa329-99de-4295-820c-c87c62ed281d",
   "metadata": {},
   "outputs": [],
   "source": [
    "# Definiere die Kennzahlen für den Text\n",
    "customer_count = df_sub_month_gen['Customer_Type'].value_counts().sum()\n",
    "customer_typen = df_sub_month_gen[\"Customer_Type\"].value_counts().index.tolist()"
   ]
  },
  {
   "cell_type": "code",
   "execution_count": 23,
   "id": "25932227-c11c-49cd-8b4e-9b95dbd0ad1b",
   "metadata": {},
   "outputs": [
    {
     "data": {
      "text/plain": [
       "23"
      ]
     },
     "execution_count": 23,
     "metadata": {},
     "output_type": "execute_result"
    }
   ],
   "source": [
    "# Konstruiere den Dynamischen Text für ein Kreisdiagram\n",
    "customer_types=[0]\n",
    "customer_text1=''\n",
    "j=0\n",
    "for i in df_sub_month_gen[\"Customer_Type\"].value_counts().index.tolist():\n",
    "    k=df_sub_month_gen[\"Customer_Type\"].value_counts().get(i,0)\n",
    "    customer_types.append(k)\n",
    "    if k > 1:\n",
    "        customer_text1 = customer_text1 + 'The customer class ' + i + ' has given ' + str(k) + ' ratings (' + str(round((k / customer_count) * 100, 1)) + '%). '\n",
    "    elif k == 1:\n",
    "        customer_text1 = customer_text1 + 'The customer class ' + i + ' has given one rating (' + str(round(100 / customer_count, 1)) + '%). '\n",
    "    else:\n",
    "        j=1\n",
    "if j==1:\n",
    "    customer_text1 = customer_text1 + 'No ratings were given for the other customer types.'\n",
    "sum(customer_types)  "
   ]
  },
  {
   "cell_type": "code",
   "execution_count": 24,
   "id": "aab6d98f-d299-46c2-8e75-47ce43b4faa7",
   "metadata": {},
   "outputs": [],
   "source": [
    "# Erstelle den Text für den Placeholder\n",
    "customer_text = 'Customer Type Distribution:\\nThe pie chart shows the proportions of different customer types. The ' + str(customer_count) + ' guest ratings are divided into the following customer types: ' + str(', '.join(customer_typen)) + '. ' + customer_text1"
   ]
  },
  {
   "cell_type": "code",
   "execution_count": 25,
   "id": "946c84bd-ef19-4466-aadc-ab382e63799a",
   "metadata": {},
   "outputs": [],
   "source": [
    "# Speicher den Text in dem Placeholder DataFrame\n",
    "df_placeholder.loc[df_placeholder['Placeholder']=='{{Customer_Week}}','Content']=customer_text"
   ]
  },
  {
   "cell_type": "code",
   "execution_count": 26,
   "id": "bedde533-9d70-410f-bee9-820f7e660f29",
   "metadata": {},
   "outputs": [
    {
     "data": {
      "image/png": "[encoded data removed]",
      "text/plain": [
       "<Figure size 800x300 with 1 Axes>"
      ]
     },
     "metadata": {},
     "output_type": "display_data"
    }
   ],
   "source": [
    "# Verwende die Seaborn-Farbpalette\n",
    "colors = sns.color_palette(\"Set2\", len(df_sub_month_gen[\"Customer_Type\"].value_counts()))  # 'Set2' Palette\n",
    "\n",
    "# Erstelle das Kreisdiagramm mit benutzerdefinierten Farben\n",
    "plt.figure(figsize=(8, 3))\n",
    "plt.pie(df_sub_month_gen[\"Customer_Type\"].value_counts(), autopct='%1.1f%%', startangle=140, colors=colors, wedgeprops={'edgecolor': 'white'})\n",
    "hole = plt.Circle((0, 0), 0.75, facecolor='white')\n",
    "plt.gcf().gca().add_artist(hole)\n",
    "# Füge Titel hinzu\n",
    "#plt.title('Kreisdiagramm mit Legende rechts')\n",
    "\n",
    "# Positioniere die Legende rechts neben dem Diagramm\n",
    "plt.legend(df_sub_month_gen[\"Customer_Type\"].value_counts().index.tolist(), loc=\"center left\", bbox_to_anchor=(1, 0.5), title=\"Kategorien\")\n",
    "plt.tight_layout()\n",
    "plt.savefig('../'+str(id)+\"/Month_\"+str(month)+\"/customer.png\",bbox_inches='tight')\n",
    "# Zeige das Diagramm an\n",
    "plt.show()\n"
   ]
  },
  {
   "cell_type": "markdown",
   "id": "267b4672-144d-4cb8-afef-6f86fb1538f4",
   "metadata": {},
   "source": [
    "### Comment Statistics Overview"
   ]
  },
  {
   "cell_type": "code",
   "execution_count": 27,
   "id": "58f1c532-4080-4f43-8db4-a9d3221b0dc0",
   "metadata": {},
   "outputs": [
    {
     "data": {
      "text/plain": [
       "count                                                     9\n",
       "unique                                                    9\n",
       "top       La posizione comoda per raggiungere i luoghi d...\n",
       "freq                                                      1\n",
       "Name: Positiv, dtype: object"
      ]
     },
     "execution_count": 27,
     "metadata": {},
     "output_type": "execute_result"
    }
   ],
   "source": [
    "df_sub_month_gen[\"Positiv\"].describe()"
   ]
  },
  {
   "cell_type": "code",
   "execution_count": 28,
   "id": "98c05568-b328-42ab-bc68-08ad5b42d6fb",
   "metadata": {},
   "outputs": [
    {
     "data": {
      "text/plain": [
       "count                       9\n",
       "unique                      9\n",
       "top       Nulla da segnalare.\n",
       "freq                        1\n",
       "Name: Negativ, dtype: object"
      ]
     },
     "execution_count": 28,
     "metadata": {},
     "output_type": "execute_result"
    }
   ],
   "source": [
    "df_sub_month_gen[\"Negativ\"].describe()"
   ]
  },
  {
   "cell_type": "code",
   "execution_count": 29,
   "id": "a290170b-d3e3-4853-9929-647dabae34ee",
   "metadata": {},
   "outputs": [
    {
     "data": {
      "text/plain": [
       "'Positive-Negative Distribution:\\nThis week, there were 9 positive (50.0%) and 9 negative (50.0%) comments, with a customer being able to write both positive and negative feedback.'"
      ]
     },
     "execution_count": 29,
     "metadata": {},
     "output_type": "execute_result"
    }
   ],
   "source": [
    "positiv_counts = df_sub_month_gen[\"Positiv\"].describe()['count']\n",
    "negativ_counts = df_sub_month_gen[\"Negativ\"].describe()['count']\n",
    "pos_neg_sum = positiv_counts+negativ_counts\n",
    "pos_neg_text = 'Positive-Negative Distribution:\\nThis week, there were ' + str(positiv_counts) + ' positive (' + str(round(100 * positiv_counts / pos_neg_sum, 1)) + '%) and ' + str(negativ_counts) + ' negative (' + str(round(100 * negativ_counts / pos_neg_sum, 1)) + '%) comments, with a customer being able to write both positive and negative feedback.'\n",
    "df_placeholder.loc[df_placeholder['Placeholder']=='{{Pos_Neg}}',['Content']]=pos_neg_text\n",
    "pos_neg_text"
   ]
  },
  {
   "cell_type": "code",
   "execution_count": 30,
   "id": "b52f0053-249b-4e2c-8c17-9cd5d7a02a32",
   "metadata": {},
   "outputs": [
    {
     "data": {
      "image/png": "[encoded data removed]",
      "text/plain": [
       "<Figure size 800x300 with 1 Axes>"
      ]
     },
     "metadata": {},
     "output_type": "display_data"
    }
   ],
   "source": [
    "pos_neg_size = [df_sub_month_gen[\"Positiv\"].describe()[\"count\"],df_sub_month_gen[\"Negativ\"].describe()[\"count\"]]\n",
    "pos_neg_label = [\"Positiv\",\"Negativ\"]\n",
    "# Verwende die Seaborn-Farbpalette\n",
    "colors = sns.color_palette(\"Set2\", len(pos_neg_size))  # 'Set2' Palette\n",
    "\n",
    "# Erstelle das Kreisdiagramm mit benutzerdefinierten Farben\n",
    "plt.figure(figsize=(8, 3))\n",
    "plt.pie(pos_neg_size, autopct='%1.1f%%', startangle=140, colors=colors, wedgeprops={'edgecolor': 'white'})\n",
    "hole = plt.Circle((0, 0), 0.75, facecolor='white')\n",
    "plt.gcf().gca().add_artist(hole)\n",
    "# Füge Titel hinzu\n",
    "#plt.title('Kreisdiagramm mit Legende rechts')\n",
    "\n",
    "# Positioniere die Legende rechts neben dem Diagramm\n",
    "plt.legend(pos_neg_label, loc=\"center left\", bbox_to_anchor=(1, 0.5), title=\"Kategorien\")\n",
    "plt.tight_layout()\n",
    "plt.savefig('../'+str(id)+\"/Month_\"+str(month)+\"/pos_neg.png\",bbox_inches='tight')\n",
    "# Zeige das Diagramm an\n",
    "plt.show()\n"
   ]
  },
  {
   "cell_type": "markdown",
   "id": "19fcee43-c0d8-4314-bef0-7433f6f0033a",
   "metadata": {},
   "source": [
    "### Room Category Distribution"
   ]
  },
  {
   "cell_type": "code",
   "execution_count": 31,
   "id": "e9a051fe-e5b5-4767-a8cd-0b71396262d3",
   "metadata": {},
   "outputs": [
    {
     "data": {
      "text/plain": [
       "count                    23\n",
       "unique                    2\n",
       "top       Studio (2 Adults)\n",
       "freq                     16\n",
       "Name: Room_Name, dtype: object"
      ]
     },
     "execution_count": 31,
     "metadata": {},
     "output_type": "execute_result"
    }
   ],
   "source": [
    "df_sub_month_gen[\"Room_Name\"].describe()"
   ]
  },
  {
   "cell_type": "code",
   "execution_count": 32,
   "id": "93b8686a-5507-4a12-874b-60cffe7cce63",
   "metadata": {},
   "outputs": [
    {
     "data": {
      "text/plain": [
       "Room_Name\n",
       "Studio (2 Adults)    16\n",
       "Apartment             7\n",
       "Name: count, dtype: int64"
      ]
     },
     "execution_count": 32,
     "metadata": {},
     "output_type": "execute_result"
    }
   ],
   "source": [
    "df_sub_month_gen[\"Room_Name\"].value_counts()"
   ]
  },
  {
   "cell_type": "code",
   "execution_count": 33,
   "id": "f5263ca4-eefb-47b7-bd05-6c6e03dadb59",
   "metadata": {},
   "outputs": [],
   "source": [
    "# Definiere die Kennzahlen für den Text\n",
    "room_count = df_sub_month_gen['Room_Name'].value_counts().sum()\n",
    "room_typen = df_sub_month_gen['Room_Name'].value_counts().index.tolist()\n",
    "# Konstruiere den Dynamischen Text für ein Kreisdiagram\n",
    "room_tpyes=[0]\n",
    "room_text1=''\n",
    "j=0\n",
    "for i in df_sub_month_gen['Room_Name'].value_counts().index.tolist():\n",
    "    k=df_sub_month_gen['Room_Name'].value_counts().get(i,0)\n",
    "    room_tpyes.append(k)\n",
    "    if k > 1:\n",
    "        room_text1 = room_text1 + 'The guests of ' + i + ' have given ' + str(k) + ' ratings (' + str(round((k / room_count) * 100, 1)) + '%). '\n",
    "    elif k == 1:\n",
    "        room_text1 = room_text1 + 'The guest of ' + i + ' has given one rating (' + str(round(100 / room_count, 1)) + '%). '\n",
    "    else:\n",
    "        j=1\n",
    "if j==1:\n",
    "    room_text1 = room_text1 + 'No ratings were given for the other room types.'\n",
    "sum(room_tpyes)\n",
    "# Erstelle den Text für den Placeholder\n",
    "room_text = 'Room Class Distribution:\\nThe pie chart shows the proportions of different room classes. This week, guests have rated the following room classes: ' + str(', '.join(room_typen)) + '. ' + room_text1\n",
    "# Speicher den Text in dem Placeholder DataFrame\n",
    "df_placeholder.loc[df_placeholder['Placeholder']=='{{Room_Week}}','Content']=room_text"
   ]
  },
  {
   "cell_type": "code",
   "execution_count": 34,
   "id": "6b5d7df6-ab06-41f8-8175-94490e2849f9",
   "metadata": {},
   "outputs": [
    {
     "data": {
      "image/png": "[encoded data removed]",
      "text/plain": [
       "<Figure size 800x300 with 1 Axes>"
      ]
     },
     "metadata": {},
     "output_type": "display_data"
    }
   ],
   "source": [
    "# Verwende die Seaborn-Farbpalette\n",
    "colors = sns.color_palette(\"Set2\", len(df_sub_month_gen[\"Room_Name\"].value_counts()))  # 'Set2' Palette\n",
    "\n",
    "# Erstelle das Kreisdiagramm mit benutzerdefinierten Farben\n",
    "plt.figure(figsize=(8, 3))\n",
    "plt.pie(df_sub_month_gen[\"Room_Name\"].value_counts(), autopct='%1.1f%%', startangle=140, colors=colors, wedgeprops={'edgecolor': 'white'})\n",
    "hole = plt.Circle((0, 0), 0.75, facecolor='white')\n",
    "plt.gcf().gca().add_artist(hole)\n",
    "# Füge Titel hinzu\n",
    "#plt.title('Kreisdiagramm mit Legende rechts')\n",
    "\n",
    "# Positioniere die Legende rechts neben dem Diagramm\n",
    "plt.legend(df_sub_month_gen[\"Room_Name\"].value_counts().index.tolist(), loc=\"center left\", bbox_to_anchor=(1, 0.5), title=\"Kategorien\")\n",
    "plt.tight_layout()\n",
    "plt.savefig('../'+str(id)+\"/Month_\"+str(month)+\"/room.png\",bbox_inches='tight')\n",
    "# Zeige das Diagramm an\n",
    "plt.show()\n"
   ]
  },
  {
   "cell_type": "markdown",
   "id": "5cd9dfd6-3c49-4b85-8e55-656ac2c5d8fd",
   "metadata": {},
   "source": [
    "### Travel Purpose Distribution"
   ]
  },
  {
   "cell_type": "code",
   "execution_count": 35,
   "id": "3fe3a082-7bd7-44b6-b953-86e6a98827a9",
   "metadata": {},
   "outputs": [
    {
     "data": {
      "text/plain": [
       "count          23\n",
       "unique          3\n",
       "top       leisure\n",
       "freq           11\n",
       "Name: Travel_Purpose, dtype: object"
      ]
     },
     "execution_count": 35,
     "metadata": {},
     "output_type": "execute_result"
    }
   ],
   "source": [
    "df_sub_month_gen[\"Travel_Purpose\"].describe()"
   ]
  },
  {
   "cell_type": "code",
   "execution_count": 36,
   "id": "4fbade50-ac79-4b1e-b992-2e75135fb156",
   "metadata": {},
   "outputs": [
    {
     "data": {
      "text/plain": [
       "Travel_Purpose\n",
       "leisure     11\n",
       "business    11\n",
       "other        1\n",
       "Name: count, dtype: int64"
      ]
     },
     "execution_count": 36,
     "metadata": {},
     "output_type": "execute_result"
    }
   ],
   "source": [
    "df_sub_month_gen[\"Travel_Purpose\"].value_counts()"
   ]
  },
  {
   "cell_type": "code",
   "execution_count": 37,
   "id": "a5a44c1e-6615-41aa-a603-a2b47dc56c75",
   "metadata": {},
   "outputs": [],
   "source": [
    "# Definiere die Kennzahlen für den Text\n",
    "travel_count = df_sub_month_gen['Travel_Purpose'].value_counts().sum()\n",
    "travel_typen = df_sub_month_gen['Travel_Purpose'].value_counts().index.tolist()\n",
    "# Konstruiere den Dynamischen Text für ein Kreisdiagram\n",
    "travel_types=[0]\n",
    "travel_text1=''\n",
    "j=0\n",
    "for i in df_sub_month_gen['Travel_Purpose'].value_counts().index.tolist():\n",
    "    k=df_sub_month_gen['Travel_Purpose'].value_counts().get(i,0)\n",
    "    travel_types.append(k)\n",
    "    if k > 1:\n",
    "        travel_text1 = travel_text1 + 'Under the travel purpose ' + i + ', a total of ' + str(k) + ' (' + str(round((k / travel_count) * 100, 1)) + '%) ratings were given. '\n",
    "    elif k == 1:\n",
    "        travel_text1 = travel_text1 + 'Under the travel purpose ' + i + ', one rating (' + str(round(100 / travel_count, 1)) + '%) was given. '\n",
    "    else:\n",
    "        j=1\n",
    "if j==1:\n",
    "    travel_text1 = travel_text1 + 'No ratings were given for other travel purposes.'\n",
    "sum(travel_types)\n",
    "# Erstelle den Text für den Placeholder\n",
    "travel_text = 'Travel Purpose Distribution:\\nThe pie chart shows the proportions of different travel purposes. Guests traveled for the following reasons: ' + str(', '.join(travel_typen)) + '. ' + travel_text1\n",
    "# Speicher den Text in dem Placeholder DataFrame\n",
    "df_placeholder.loc[df_placeholder['Placeholder']=='{{Travel_Week}}','Content']=travel_text"
   ]
  },
  {
   "cell_type": "code",
   "execution_count": 38,
   "id": "985073a6-81f7-4303-8428-9816732e6ae6",
   "metadata": {},
   "outputs": [
    {
     "data": {
      "image/png": "[encoded data removed]",
      "text/plain": [
       "<Figure size 800x300 with 1 Axes>"
      ]
     },
     "metadata": {},
     "output_type": "display_data"
    }
   ],
   "source": [
    "# Verwende die Seaborn-Farbpalette\n",
    "colors = sns.color_palette(\"Set2\", len(df_sub_month_gen[\"Travel_Purpose\"].value_counts()))  # 'Set2' Palette\n",
    "\n",
    "# Erstelle das Kreisdiagramm mit benutzerdefinierten Farben\n",
    "plt.figure(figsize=(8, 3))\n",
    "plt.pie(df_sub_month_gen[\"Travel_Purpose\"].value_counts(), autopct='%1.1f%%', startangle=140, colors=colors, wedgeprops={'edgecolor': 'white'})\n",
    "hole = plt.Circle((0, 0), 0.75, facecolor='white')\n",
    "plt.gcf().gca().add_artist(hole)\n",
    "# Füge Titel hinzu\n",
    "#plt.title('Kreisdiagramm mit Legende rechts')\n",
    "\n",
    "# Positioniere die Legende rechts neben dem Diagramm\n",
    "plt.legend(df_sub_month_gen[\"Travel_Purpose\"].value_counts().index.tolist(), loc=\"center left\", bbox_to_anchor=(1, 0.5), title=\"Kategorien\")\n",
    "plt.tight_layout()\n",
    "plt.savefig('../'+str(id)+\"/Month_\"+str(month)+\"/travel.png\",bbox_inches='tight')\n",
    "# Zeige das Diagramm an\n",
    "plt.show()\n"
   ]
  },
  {
   "cell_type": "markdown",
   "id": "a1feae39-d041-49b5-b6b6-240b4e0272f7",
   "metadata": {},
   "source": [
    "## Highlights Score"
   ]
  },
  {
   "cell_type": "markdown",
   "id": "483f6a23-14f9-4afe-8ee4-524c3ebb90da",
   "metadata": {},
   "source": [
    "### Score x Room Category"
   ]
  },
  {
   "cell_type": "code",
   "execution_count": 39,
   "id": "24f1fc3a-aa9f-486b-b085-38e21d801044",
   "metadata": {},
   "outputs": [
    {
     "data": {
      "text/html": [
       "<div>\n",
       "<style scoped>\n",
       "    .dataframe tbody tr th:only-of-type {\n",
       "        vertical-align: middle;\n",
       "    }\n",
       "\n",
       "    .dataframe tbody tr th {\n",
       "        vertical-align: top;\n",
       "    }\n",
       "\n",
       "    .dataframe thead th {\n",
       "        text-align: right;\n",
       "    }\n",
       "</style>\n",
       "<table border=\"1\" class=\"dataframe\">\n",
       "  <thead>\n",
       "    <tr style=\"text-align: right;\">\n",
       "      <th></th>\n",
       "      <th>count</th>\n",
       "      <th>mean</th>\n",
       "      <th>std</th>\n",
       "      <th>min</th>\n",
       "      <th>25%</th>\n",
       "      <th>50%</th>\n",
       "      <th>75%</th>\n",
       "      <th>max</th>\n",
       "    </tr>\n",
       "    <tr>\n",
       "      <th>Room_Name</th>\n",
       "      <th></th>\n",
       "      <th></th>\n",
       "      <th></th>\n",
       "      <th></th>\n",
       "      <th></th>\n",
       "      <th></th>\n",
       "      <th></th>\n",
       "      <th></th>\n",
       "    </tr>\n",
       "  </thead>\n",
       "  <tbody>\n",
       "    <tr>\n",
       "      <th>Apartment</th>\n",
       "      <td>7.0</td>\n",
       "      <td>8.571429</td>\n",
       "      <td>1.902379</td>\n",
       "      <td>5.0</td>\n",
       "      <td>8.0</td>\n",
       "      <td>9.0</td>\n",
       "      <td>10.00</td>\n",
       "      <td>10.0</td>\n",
       "    </tr>\n",
       "    <tr>\n",
       "      <th>Studio (2 Adults)</th>\n",
       "      <td>16.0</td>\n",
       "      <td>8.875000</td>\n",
       "      <td>0.885061</td>\n",
       "      <td>7.0</td>\n",
       "      <td>8.0</td>\n",
       "      <td>9.0</td>\n",
       "      <td>9.25</td>\n",
       "      <td>10.0</td>\n",
       "    </tr>\n",
       "  </tbody>\n",
       "</table>\n",
       "</div>"
      ],
      "text/plain": [
       "                   count      mean       std  min  25%  50%    75%   max\n",
       "Room_Name                                                               \n",
       "Apartment            7.0  8.571429  1.902379  5.0  8.0  9.0  10.00  10.0\n",
       "Studio (2 Adults)   16.0  8.875000  0.885061  7.0  8.0  9.0   9.25  10.0"
      ]
     },
     "execution_count": 39,
     "metadata": {},
     "output_type": "execute_result"
    }
   ],
   "source": [
    "df_sub_month_gen.groupby(\"Room_Name\")[\"Score\"].describe()"
   ]
  },
  {
   "cell_type": "code",
   "execution_count": 40,
   "id": "a0577840-1fda-4f50-9f15-1accf762b523",
   "metadata": {},
   "outputs": [
    {
     "data": {
      "text/plain": [
       "Room_Name          Score\n",
       "Apartment          10       3\n",
       "                   9        2\n",
       "                   5        1\n",
       "                   7        1\n",
       "Studio (2 Adults)  9        7\n",
       "                   8        4\n",
       "                   10       4\n",
       "                   7        1\n",
       "Name: count, dtype: int64"
      ]
     },
     "execution_count": 40,
     "metadata": {},
     "output_type": "execute_result"
    }
   ],
   "source": [
    "df_sub_month_gen.groupby(\"Room_Name\")[\"Score\"].value_counts()"
   ]
  },
  {
   "cell_type": "code",
   "execution_count": 41,
   "id": "8b22566e-3af9-4c73-9b56-10afd38bf367",
   "metadata": {},
   "outputs": [
    {
     "data": {
      "text/plain": [
       "['Apartment', 'Studio (2 Adults)']"
      ]
     },
     "execution_count": 41,
     "metadata": {},
     "output_type": "execute_result"
    }
   ],
   "source": [
    "score_room_class = df_sub_month_gen.groupby(\"Room_Name\")[\"Score\"].describe().index.tolist()\n",
    "score_room_class"
   ]
  },
  {
   "cell_type": "code",
   "execution_count": 42,
   "id": "1c0eb22d-f589-44a5-854a-c953c147fb8d",
   "metadata": {},
   "outputs": [],
   "source": [
    "s_r = df_sub_month_gen.groupby(\"Room_Name\")[\"Score\"].describe()\n",
    "s_r_text = ''\n",
    "for i in score_room_class:\n",
    "    mean = s_r['mean'][i]\n",
    "    if s_r['count'][i]>1:\n",
    "        minimum=s_r['min'][i]\n",
    "        maximum=s_r['max'][i]\n",
    "        q1=s_r['25%'][i]\n",
    "        q2=s_r['75%'][i]\n",
    "        s_r_text = s_r_text + ' The class <' + i + '> is rated on average with ' + str(round(mean, 1)) + ' (Red), with the lowest rating of ' + str(minimum) + ' (Left bar) and the highest rating of ' + str(maximum) + ' (Right bar). 50% of the ratings (Blue) are between ' + str(round(q1, 1)) + ' and ' + str(round(q2, 1)) + '.'\n",
    "    elif s_r['count'][i]==1:\n",
    "        s_r_text = s_r_text + ' The class <' + i + '> has an average rating of ' + str(round(mean, 1)) + ' (Red). There was only one rating in this class.'"
   ]
  },
  {
   "cell_type": "code",
   "execution_count": 43,
   "id": "ce674d21-6d3b-41ba-a3e1-26926bd95c50",
   "metadata": {},
   "outputs": [],
   "source": [
    "score_room_text = 'Score-Room Class Distribution:\\nThe score distribution is shown for the room categories ' + ', '.join(score_room_class) + '. ' + s_r_text"
   ]
  },
  {
   "cell_type": "code",
   "execution_count": 44,
   "id": "e4b46d1b-6bfc-4b2e-9387-59a1a30dd778",
   "metadata": {},
   "outputs": [],
   "source": [
    "df_placeholder.loc[df_placeholder['Placeholder']=='{{Score_Room}}','Content']=score_room_text"
   ]
  },
  {
   "cell_type": "code",
   "execution_count": 45,
   "id": "1fa0ed49-be0a-4093-806b-b242f7d6f95d",
   "metadata": {},
   "outputs": [
    {
     "data": {
      "image/png": "[encoded data removed]",
      "text/plain": [
       "<Figure size 800x600 with 1 Axes>"
      ]
     },
     "metadata": {},
     "output_type": "display_data"
    }
   ],
   "source": [
    "# Erstelle den Boxplot\n",
    "plt.figure(figsize=(8, 6))\n",
    "sns.boxplot(x='Score', y=[label.replace(' ','\\n') for label in df_sub_month_gen['Room_Name']], data=df_sub_month_gen, color=\"lightblue\",\n",
    "            linecolor=\"black\",\n",
    "           medianprops={\"color\": \"r\", \"linewidth\": 2})\n",
    "\n",
    "# Füge Titel und Labels hinzu\n",
    "#plt.title('Boxplot der Scores pro Room_Name')\n",
    "plt.xlabel('Score')\n",
    "plt.ylabel(\"\")\n",
    "plt.xlim(0,10)\n",
    "plt.xticks(rotation=0)\n",
    "plt.savefig('../'+str(id)+\"/Month_\"+str(month)+\"/score_room.png\",bbox_inches='tight')\n",
    "# Zeige das Diagramm an\n",
    "plt.show()\n"
   ]
  },
  {
   "cell_type": "markdown",
   "id": "c81046b5-28e2-4332-8b7f-4d1ee85c2bd1",
   "metadata": {},
   "source": [
    "### Score x Travel Purpose"
   ]
  },
  {
   "cell_type": "code",
   "execution_count": 46,
   "id": "c9466f56-dd09-4657-80da-49048a406a77",
   "metadata": {},
   "outputs": [
    {
     "data": {
      "text/html": [
       "<div>\n",
       "<style scoped>\n",
       "    .dataframe tbody tr th:only-of-type {\n",
       "        vertical-align: middle;\n",
       "    }\n",
       "\n",
       "    .dataframe tbody tr th {\n",
       "        vertical-align: top;\n",
       "    }\n",
       "\n",
       "    .dataframe thead th {\n",
       "        text-align: right;\n",
       "    }\n",
       "</style>\n",
       "<table border=\"1\" class=\"dataframe\">\n",
       "  <thead>\n",
       "    <tr style=\"text-align: right;\">\n",
       "      <th></th>\n",
       "      <th>count</th>\n",
       "      <th>mean</th>\n",
       "      <th>std</th>\n",
       "      <th>min</th>\n",
       "      <th>25%</th>\n",
       "      <th>50%</th>\n",
       "      <th>75%</th>\n",
       "      <th>max</th>\n",
       "    </tr>\n",
       "    <tr>\n",
       "      <th>Travel_Purpose</th>\n",
       "      <th></th>\n",
       "      <th></th>\n",
       "      <th></th>\n",
       "      <th></th>\n",
       "      <th></th>\n",
       "      <th></th>\n",
       "      <th></th>\n",
       "      <th></th>\n",
       "    </tr>\n",
       "  </thead>\n",
       "  <tbody>\n",
       "    <tr>\n",
       "      <th>business</th>\n",
       "      <td>11.0</td>\n",
       "      <td>8.454545</td>\n",
       "      <td>1.439697</td>\n",
       "      <td>5.0</td>\n",
       "      <td>8.0</td>\n",
       "      <td>9.0</td>\n",
       "      <td>9.0</td>\n",
       "      <td>10.0</td>\n",
       "    </tr>\n",
       "    <tr>\n",
       "      <th>leisure</th>\n",
       "      <td>11.0</td>\n",
       "      <td>9.090909</td>\n",
       "      <td>1.044466</td>\n",
       "      <td>7.0</td>\n",
       "      <td>8.5</td>\n",
       "      <td>9.0</td>\n",
       "      <td>10.0</td>\n",
       "      <td>10.0</td>\n",
       "    </tr>\n",
       "    <tr>\n",
       "      <th>other</th>\n",
       "      <td>1.0</td>\n",
       "      <td>9.000000</td>\n",
       "      <td>NaN</td>\n",
       "      <td>9.0</td>\n",
       "      <td>9.0</td>\n",
       "      <td>9.0</td>\n",
       "      <td>9.0</td>\n",
       "      <td>9.0</td>\n",
       "    </tr>\n",
       "  </tbody>\n",
       "</table>\n",
       "</div>"
      ],
      "text/plain": [
       "                count      mean       std  min  25%  50%   75%   max\n",
       "Travel_Purpose                                                      \n",
       "business         11.0  8.454545  1.439697  5.0  8.0  9.0   9.0  10.0\n",
       "leisure          11.0  9.090909  1.044466  7.0  8.5  9.0  10.0  10.0\n",
       "other             1.0  9.000000       NaN  9.0  9.0  9.0   9.0   9.0"
      ]
     },
     "execution_count": 46,
     "metadata": {},
     "output_type": "execute_result"
    }
   ],
   "source": [
    "df_sub_month_gen.groupby(\"Travel_Purpose\")[\"Score\"].describe()"
   ]
  },
  {
   "cell_type": "code",
   "execution_count": 47,
   "id": "91825d9c-a809-4f95-b169-fd2a3c9388a9",
   "metadata": {},
   "outputs": [
    {
     "data": {
      "text/plain": [
       "Travel_Purpose  Score\n",
       "business        9        5\n",
       "                8        2\n",
       "                10       2\n",
       "                5        1\n",
       "                7        1\n",
       "leisure         10       5\n",
       "                9        3\n",
       "                8        2\n",
       "                7        1\n",
       "other           9        1\n",
       "Name: count, dtype: int64"
      ]
     },
     "execution_count": 47,
     "metadata": {},
     "output_type": "execute_result"
    }
   ],
   "source": [
    "df_sub_month_gen.groupby(\"Travel_Purpose\")[\"Score\"].value_counts()"
   ]
  },
  {
   "cell_type": "code",
   "execution_count": 48,
   "id": "7836da8c-bd85-4755-8c6b-83cf8de3242b",
   "metadata": {},
   "outputs": [],
   "source": [
    "score_travel_class = df_sub_month_gen.groupby(\"Travel_Purpose\")[\"Score\"].describe().index.tolist()\n",
    "s_t = df_sub_month_gen.groupby(\"Travel_Purpose\")[\"Score\"].describe()\n",
    "s_t_text = ''\n",
    "for i in score_travel_class:\n",
    "    mean = s_t['mean'][i]\n",
    "    if s_t['count'][i]>1:\n",
    "        minimum=s_t['min'][i]\n",
    "        maximum=s_t['max'][i]\n",
    "        q1=s_t['25%'][i]\n",
    "        q2=s_t['75%'][i]\n",
    "        s_t_text = s_t_text + ' The class <' + i + '> is rated on average with ' + str(round(mean, 1)) + ' (Red), with the lowest rating of ' + str(minimum) + ' (Left bar) and the highest rating of ' + str(maximum) + ' (Right bar). 50% of the ratings (Blue) are between ' + str(round(q1, 1)) + ' and ' + str(round(q2, 1)) + '.'\n",
    "    elif s_t['count'][i]==1:\n",
    "        s_t_text = s_t_text + ' The class <' + i + '> has an average rating of ' + str(round(mean, 1)) + ' (Red). There was only one rating in this class.'\n",
    "score_travel_text = 'Score-Travel Purpose Distribution:\\nThe score distribution is shown for the travel purposes ' + ', '.join(score_travel_class) + '. ' + s_t_text\n",
    "df_placeholder.loc[df_placeholder['Placeholder']=='{{Score_Travel}}','Content']=score_travel_text"
   ]
  },
  {
   "cell_type": "code",
   "execution_count": 49,
   "id": "97584761-8f26-4074-827f-5ea3ad912926",
   "metadata": {},
   "outputs": [
    {
     "data": {
      "image/png": "[encoded data removed]",
      "text/plain": [
       "<Figure size 800x600 with 1 Axes>"
      ]
     },
     "metadata": {},
     "output_type": "display_data"
    }
   ],
   "source": [
    "# Erstelle den Boxplot\n",
    "plt.figure(figsize=(8, 6))\n",
    "sns.boxplot(x='Score', y=[label.replace(' ','\\n') for label in df_sub_month_gen['Travel_Purpose']], data=df_sub_month_gen, color=\"lightblue\",\n",
    "            linecolor=\"black\",\n",
    "           medianprops={\"color\": \"r\", \"linewidth\": 2})\n",
    "\n",
    "# Füge Titel und Labels hinzu\n",
    "#plt.title('Boxplot der Scores pro Travel-Purpose')\n",
    "plt.xlabel('Score')\n",
    "plt.ylabel(\"\")\n",
    "plt.xlim(0,10)\n",
    "plt.xticks(rotation=0)\n",
    "plt.savefig('../'+str(id)+\"/Month_\"+str(month)+\"/score_travel.png\")\n",
    "# Zeige das Diagramm an\n",
    "plt.show()\n"
   ]
  },
  {
   "cell_type": "markdown",
   "id": "2c94a966-a968-43a7-b9ff-f2e3f1df4ab5",
   "metadata": {},
   "source": [
    "### Score x Customer Type"
   ]
  },
  {
   "cell_type": "code",
   "execution_count": 50,
   "id": "60fb464c-7011-42d5-b4a7-63f534d6855a",
   "metadata": {},
   "outputs": [
    {
     "data": {
      "text/html": [
       "<div>\n",
       "<style scoped>\n",
       "    .dataframe tbody tr th:only-of-type {\n",
       "        vertical-align: middle;\n",
       "    }\n",
       "\n",
       "    .dataframe tbody tr th {\n",
       "        vertical-align: top;\n",
       "    }\n",
       "\n",
       "    .dataframe thead th {\n",
       "        text-align: right;\n",
       "    }\n",
       "</style>\n",
       "<table border=\"1\" class=\"dataframe\">\n",
       "  <thead>\n",
       "    <tr style=\"text-align: right;\">\n",
       "      <th></th>\n",
       "      <th>count</th>\n",
       "      <th>mean</th>\n",
       "      <th>std</th>\n",
       "      <th>min</th>\n",
       "      <th>25%</th>\n",
       "      <th>50%</th>\n",
       "      <th>75%</th>\n",
       "      <th>max</th>\n",
       "    </tr>\n",
       "    <tr>\n",
       "      <th>Customer_Type</th>\n",
       "      <th></th>\n",
       "      <th></th>\n",
       "      <th></th>\n",
       "      <th></th>\n",
       "      <th></th>\n",
       "      <th></th>\n",
       "      <th></th>\n",
       "      <th></th>\n",
       "    </tr>\n",
       "  </thead>\n",
       "  <tbody>\n",
       "    <tr>\n",
       "      <th>Couple</th>\n",
       "      <td>5.0</td>\n",
       "      <td>8.600000</td>\n",
       "      <td>0.894427</td>\n",
       "      <td>7.0</td>\n",
       "      <td>9.00</td>\n",
       "      <td>9.0</td>\n",
       "      <td>9.0</td>\n",
       "      <td>9.0</td>\n",
       "    </tr>\n",
       "    <tr>\n",
       "      <th>Family</th>\n",
       "      <td>4.0</td>\n",
       "      <td>9.750000</td>\n",
       "      <td>0.500000</td>\n",
       "      <td>9.0</td>\n",
       "      <td>9.75</td>\n",
       "      <td>10.0</td>\n",
       "      <td>10.0</td>\n",
       "      <td>10.0</td>\n",
       "    </tr>\n",
       "    <tr>\n",
       "      <th>Group of friends</th>\n",
       "      <td>7.0</td>\n",
       "      <td>8.571429</td>\n",
       "      <td>1.718249</td>\n",
       "      <td>5.0</td>\n",
       "      <td>8.50</td>\n",
       "      <td>9.0</td>\n",
       "      <td>9.5</td>\n",
       "      <td>10.0</td>\n",
       "    </tr>\n",
       "    <tr>\n",
       "      <th>Solo traveller</th>\n",
       "      <td>7.0</td>\n",
       "      <td>8.571429</td>\n",
       "      <td>1.133893</td>\n",
       "      <td>7.0</td>\n",
       "      <td>8.00</td>\n",
       "      <td>8.0</td>\n",
       "      <td>9.5</td>\n",
       "      <td>10.0</td>\n",
       "    </tr>\n",
       "  </tbody>\n",
       "</table>\n",
       "</div>"
      ],
      "text/plain": [
       "                  count      mean       std  min   25%   50%   75%   max\n",
       "Customer_Type                                                           \n",
       "Couple              5.0  8.600000  0.894427  7.0  9.00   9.0   9.0   9.0\n",
       "Family              4.0  9.750000  0.500000  9.0  9.75  10.0  10.0  10.0\n",
       "Group of friends    7.0  8.571429  1.718249  5.0  8.50   9.0   9.5  10.0\n",
       "Solo traveller      7.0  8.571429  1.133893  7.0  8.00   8.0   9.5  10.0"
      ]
     },
     "execution_count": 50,
     "metadata": {},
     "output_type": "execute_result"
    }
   ],
   "source": [
    "df_sub_month_gen.groupby(\"Customer_Type\")[\"Score\"].describe()"
   ]
  },
  {
   "cell_type": "code",
   "execution_count": 51,
   "id": "2dba5271-7df4-49c6-bede-449439da5be9",
   "metadata": {},
   "outputs": [
    {
     "data": {
      "text/plain": [
       "Customer_Type     Score\n",
       "Couple            9        4\n",
       "                  7        1\n",
       "Family            10       3\n",
       "                  9        1\n",
       "Group of friends  9        3\n",
       "                  10       2\n",
       "                  5        1\n",
       "                  8        1\n",
       "Solo traveller    8        3\n",
       "                  10       2\n",
       "                  7        1\n",
       "                  9        1\n",
       "Name: count, dtype: int64"
      ]
     },
     "execution_count": 51,
     "metadata": {},
     "output_type": "execute_result"
    }
   ],
   "source": [
    "df_sub_month_gen.groupby(\"Customer_Type\")[\"Score\"].value_counts()"
   ]
  },
  {
   "cell_type": "code",
   "execution_count": 52,
   "id": "a3311e12-32e8-43ae-9ab5-062fd4800b5f",
   "metadata": {},
   "outputs": [],
   "source": [
    "score_customer_class = df_sub_month_gen.groupby(\"Customer_Type\")[\"Score\"].describe().index.tolist()\n",
    "s_c = df_sub_month_gen.groupby(\"Customer_Type\")[\"Score\"].describe()\n",
    "s_c_text = ''\n",
    "for i in score_customer_class:\n",
    "    mean = s_c['mean'][i]\n",
    "    if s_c['count'][i]>1:\n",
    "        minimum=s_c['min'][i]\n",
    "        maximum=s_c['max'][i]\n",
    "        q1=s_c['25%'][i]\n",
    "        q2=s_c['75%'][i]\n",
    "        s_c_text = s_c_text + ' The class <' + i + '> is rated on average with ' + str(round(mean, 1)) + ' (Red), with the lowest rating of ' + str(minimum) + ' (Left bar) and the highest rating of ' + str(maximum) + ' (Right bar). 50% of the ratings (Blue) are between ' + str(round(q1, 1)) + ' and ' + str(round(q2, 1)) + '.'\n",
    "    elif s_c['count'][i]==1:\n",
    "        s_c_text = s_c_text + ' The class <' + i + '> has an average rating of ' + str(round(mean, 1)) + ' (Red). There was only one rating in this class.'\n",
    "score_customer_text = 'Score-Customer Type Distribution:\\nThe score distribution is shown for the customer types ' + ', '.join(score_customer_class) + '. ' + s_c_text\n",
    "df_placeholder.loc[df_placeholder['Placeholder']=='{{Score_Customer}}','Content']=score_customer_text"
   ]
  },
  {
   "cell_type": "code",
   "execution_count": 53,
   "id": "d638d152-8fc0-4ce3-a87e-f1e7f0fa4c29",
   "metadata": {},
   "outputs": [
    {
     "data": {
      "image/png": "[encoded data removed]",
      "text/plain": [
       "<Figure size 800x600 with 1 Axes>"
      ]
     },
     "metadata": {},
     "output_type": "display_data"
    }
   ],
   "source": [
    "# Erstelle den Boxplot\n",
    "plt.figure(figsize=(8, 6))\n",
    "sns.boxplot(x='Score', y=[label.replace(' ','\\n') for label in df_sub_month_gen['Customer_Type']], data=df_sub_month_gen, color=\"lightblue\",\n",
    "            linecolor=\"black\",\n",
    "           medianprops={\"color\": \"r\", \"linewidth\": 2})\n",
    "\n",
    "# Füge Titel und Labels hinzu\n",
    "#plt.title('Boxplot der Scores pro Customer-Type')\n",
    "plt.xlabel('Score')\n",
    "plt.ylabel(\"\")\n",
    "plt.xticks(rotation=0)\n",
    "plt.xlim(0,10)\n",
    "plt.savefig('../'+str(id)+\"/Month_\"+str(month)+\"/score_customer.png\")\n",
    "# Zeige das Diagramm an\n",
    "plt.show()\n"
   ]
  },
  {
   "cell_type": "markdown",
   "id": "1ff4126e-e5dc-4d4d-b205-737ea0bc1113",
   "metadata": {},
   "source": [
    "## Comparison"
   ]
  },
  {
   "cell_type": "markdown",
   "id": "7e508895-09ad-4900-91c1-3d22245a3968",
   "metadata": {},
   "source": [
    "### Score x Room Category"
   ]
  },
  {
   "cell_type": "code",
   "execution_count": 54,
   "id": "399332ed-86de-4fde-b7c6-d7bc4d6417e9",
   "metadata": {},
   "outputs": [],
   "source": [
    "a=df_sub_month_gen.groupby(\"Room_Name\")[\"Score\"].describe().copy()\n",
    "b=df_sub_pmonth_gen.groupby(\"Room_Name\")[\"Score\"].describe().copy()"
   ]
  },
  {
   "cell_type": "code",
   "execution_count": 55,
   "id": "0fd2077a-6eee-47f3-8732-6c80ccdc412e",
   "metadata": {},
   "outputs": [],
   "source": [
    "c=a-b\n",
    "#type(c[\"mean\"]['Family Studio with City View'])\n",
    "#c.index.tolist()"
   ]
  },
  {
   "cell_type": "code",
   "execution_count": 56,
   "id": "bba47ce9-4fef-4127-b192-35a14f2c1b4a",
   "metadata": {},
   "outputs": [],
   "source": [
    "d_r_text =''\n",
    "for i in c.index.tolist():\n",
    "    if (round(c['mean'][i],2)>0) or (round(c['mean'][i],2)<0):\n",
    "        d_r_text = d_r_text + 'The class <' + i + '> has changed by an average of ' + str(round(c['mean'][i], 2)) + ' points'\n",
    "        if round(c['mean'][i],2) > 0:\n",
    "            d_r_text = d_r_text+' more than the previous week. '\n",
    "        elif round(c['mean'][i],2) <0:\n",
    "            d_r_text = d_r_text+' less than the previous week. '\n",
    "    elif round(c['mean'][i],2)==0:\n",
    "        d_r_text = d_r_text + 'The rating of the class <'+i+'> did not changed to the previous week. '\n",
    "    elif math.isnan(round(c['mean'][i],2)):\n",
    "        d_r_text = d_r_text + 'For the class <'+i+'> there were no ratings received. '\n",
    "        "
   ]
  },
  {
   "cell_type": "code",
   "execution_count": 57,
   "id": "346f0cb8-e658-4915-a4ac-e58bee5d277f",
   "metadata": {},
   "outputs": [],
   "source": [
    "diff_room = 'Score-Room Class Comparison:\\nThe following changes occurred for the room categories rated this week compared to last week: ' + d_r_text"
   ]
  },
  {
   "cell_type": "code",
   "execution_count": 58,
   "id": "951acfbb-e13a-4323-bff4-421bf41bdc06",
   "metadata": {},
   "outputs": [],
   "source": [
    "df_placeholder.loc[df_placeholder['Placeholder']=='{{Diff_Room}}','Content']=diff_room"
   ]
  },
  {
   "cell_type": "code",
   "execution_count": 59,
   "id": "cf6c7c34-5452-4286-8386-0746bc800ff6",
   "metadata": {},
   "outputs": [
    {
     "name": "stdout",
     "output_type": "stream",
     "text": [
      "0.15966386554621792 green\n",
      "0.2663043478260878 green\n",
      "0.15966386554621792\n",
      "0.2663043478260878\n"
     ]
    },
    {
     "data": {
      "image/png": "[encoded data removed]",
      "text/plain": [
       "<Figure size 800x600 with 1 Axes>"
      ]
     },
     "metadata": {},
     "output_type": "display_data"
    }
   ],
   "source": [
    "# Plotting the differences\n",
    "plt.figure(figsize=(8, 6))\n",
    "# Create a color array based on the value of the 'Difference' column\n",
    "colors = []\n",
    "for diff in c['mean']:\n",
    "    if diff < 0:\n",
    "        colors.append('red')  # für negative Werte\n",
    "        print(str(diff)+' red')\n",
    "    elif diff > 0:\n",
    "        colors.append('lightgreen')  # für positive Werte\n",
    "        print(str(diff)+' green')\n",
    "    elif math.isnan(diff):\n",
    "        colors.append('black')\n",
    "        \n",
    "bars=plt.bar([label.replace(' ','\\n') for label in c.index.tolist()], c[\"mean\"], color=colors)\n",
    "# Adding horizontal line at y=0\n",
    "plt.axhline(y=0, color='black', linestyle='--', linewidth=1)\n",
    "for bar in bars:\n",
    "    yval = bar.get_height() # Get the height of the bar (the value)\n",
    "    print(yval)\n",
    "    if not math.isnan(yval):\n",
    "        if yval > 0:\n",
    "            yval=\"+\"+str(round(yval,2))\n",
    "        elif yval<0:\n",
    "            yval=str(round(yval,2))\n",
    "        plt.text(bar.get_x() + bar.get_width() / 2, 0,  # Position the text\n",
    "                    yval,  # Display the rounded value\n",
    "                    ha='center',  # Horizontal alignment of the text\n",
    "                    va='bottom',  # Vertical alignment of the text\n",
    "                    color='black' if yval != 0 else 'white',  # Text color based on the value\n",
    "                    fontweight='bold',  # Make the text bold\n",
    "                    fontsize=16)  # Set the font size to 12 pt\n",
    "# Adding labels and title\n",
    "#plt.xlabel('Category')\n",
    "#plt.ylabel('Score Unterschied zur')\n",
    "#plt.title('Differences Between value1 and value2')\n",
    "# Setze die y-Achsen-Grenzen\n",
    "plt.ylim(-10,10)  # z. B. von -10 bis 40\n",
    "plt.savefig('../'+str(id)+\"/Month_\"+str(month)+\"/diff_room.png\")\n",
    "# Display the plot\n",
    "plt.show()\n"
   ]
  },
  {
   "cell_type": "markdown",
   "id": "d3634489-6f64-40c6-ba82-c528d0afdc03",
   "metadata": {},
   "source": [
    "### Score x Travel Purpose"
   ]
  },
  {
   "cell_type": "code",
   "execution_count": 60,
   "id": "48f2d548-a5cd-48f7-b0c8-0cf7a26eaa1c",
   "metadata": {},
   "outputs": [],
   "source": [
    "d=df_sub_month_gen.groupby(\"Travel_Purpose\")[\"Score\"].describe().copy()\n",
    "e=df_sub_pmonth_gen.groupby(\"Travel_Purpose\")[\"Score\"].describe().copy()"
   ]
  },
  {
   "cell_type": "code",
   "execution_count": 61,
   "id": "0207a18d-5f31-4e17-ba2d-c11795c18f13",
   "metadata": {},
   "outputs": [
    {
     "data": {
      "text/plain": [
       "['business', 'leisure', 'other']"
      ]
     },
     "execution_count": 61,
     "metadata": {},
     "output_type": "execute_result"
    }
   ],
   "source": [
    "f=d-e\n",
    "f[\"mean\"]\n",
    "f.index.tolist()"
   ]
  },
  {
   "cell_type": "code",
   "execution_count": 62,
   "id": "ae760c92-532f-4f4b-807f-97d50b01bc45",
   "metadata": {},
   "outputs": [],
   "source": [
    "d_t_text =''\n",
    "for i in f.index.tolist():\n",
    "    if (round(f['mean'][i],2)>0) or (round(f['mean'][i],2)<0):\n",
    "        d_t_text = d_t_text + 'The class <'+i+'> has changed by an average of '+str(round(f['mean'][i],2))+' points'\n",
    "        if round(f['mean'][i],2) > 0:\n",
    "            d_t_text = d_t_text+' more than the previous week. '\n",
    "        elif round(f['mean'][i],2) <0:\n",
    "            d_t_text = d_t_text+' less than the previous week. '\n",
    "    elif round(f['mean'][i],2)==0:\n",
    "        d_t_text = d_t_text + 'The ratings of the class <'+i+'> did not changed to the previous week. '\n",
    "    elif math.isnan(round(f['mean'][i],2)):\n",
    "        d_t_text = d_t_text + 'For the class <'+i+'> there were no ratings received. '\n",
    "diff_travel = 'Score-Travel Purpose Comparison:\\nThe following changes occurred in the ratings based on the travel purpose compared to last week: ' + d_t_text\n",
    "df_placeholder.loc[df_placeholder['Placeholder']=='{{Diff_Travel}}','Content']=diff_travel"
   ]
  },
  {
   "cell_type": "code",
   "execution_count": 63,
   "id": "3cb52ea4-330c-490f-95a4-754afa9c09fc",
   "metadata": {},
   "outputs": [
    {
     "data": {
      "image/png": "[encoded data removed]",
      "text/plain": [
       "<Figure size 800x600 with 1 Axes>"
      ]
     },
     "metadata": {},
     "output_type": "display_data"
    }
   ],
   "source": [
    "# Plotting the differences\n",
    "plt.figure(figsize=(8, 6))\n",
    "# Create a color array based on the value of the 'Difference' column\n",
    "colors = []\n",
    "for diff in f['mean']:\n",
    "    if diff < 0:\n",
    "        colors.append('red')  # für negative Werte\n",
    "    elif diff > 0.0:\n",
    "        colors.append('lightgreen')  # für positive Werte\n",
    "    elif math.isnan(diff):\n",
    "        colors.append('black')\n",
    "        \n",
    "bars=plt.bar([label.replace(' ','\\n') for label in f.index.tolist()], f[\"mean\"], color=colors)\n",
    "# Adding horizontal line at y=0\n",
    "plt.axhline(y=0, color='black', linestyle='--', linewidth=1)\n",
    "for bar in bars:\n",
    "    yval = bar.get_height() # Get the height of the bar (the value)\n",
    "    if yval > 0:\n",
    "        yval=\"+\"+str(round(yval,2))\n",
    "    else:\n",
    "        yval=str(round(yval,2))\n",
    "    plt.text(bar.get_x() + bar.get_width() / 2, 0,  # Position the text\n",
    "             yval,  # Display the rounded value\n",
    "             ha='center',  # Horizontal alignment of the text\n",
    "             va='bottom',  # Vertical alignment of the text\n",
    "             color='black' if yval != 0 else 'white',  # Text color based on the value\n",
    "             fontweight='bold',  # Make the text bold\n",
    "             fontsize=16)  # Set the font size to 12 pt\n",
    "# Adding labels and title\n",
    "# plt.xlabel('Category')\n",
    "# plt.ylabel('Difference (value1 - value2)')\n",
    "# plt.title('Differences Between value1 and value2')\n",
    "# Setze die y-Achsen-Grenzen\n",
    "plt.ylim(-10,10)  # z. B. von -10 bis 40\n",
    "plt.savefig('../'+str(id)+\"/Month_\"+str(month)+\"/diff_travel.png\")\n",
    "# Display the plot\n",
    "plt.show()"
   ]
  },
  {
   "cell_type": "markdown",
   "id": "e51ec2bb-cdd8-4f82-a6f6-3f2596c0109d",
   "metadata": {},
   "source": [
    "### Score x Customer Type"
   ]
  },
  {
   "cell_type": "code",
   "execution_count": 64,
   "id": "ccec1876-a787-494e-b3b7-e2a4414467ad",
   "metadata": {},
   "outputs": [],
   "source": [
    "u=df_sub_month_gen.groupby(\"Customer_Type\")[\"Score\"].describe().copy()\n",
    "p=df_sub_pmonth_gen.groupby(\"Customer_Type\")[\"Score\"].describe().copy()"
   ]
  },
  {
   "cell_type": "code",
   "execution_count": 65,
   "id": "47bc977c-3e85-40bd-8d59-d7fa7ee72497",
   "metadata": {},
   "outputs": [
    {
     "data": {
      "text/plain": [
       "Customer_Type\n",
       "Couple              0.236364\n",
       "Family              1.057692\n",
       "Group of friends    0.154762\n",
       "Solo traveller     -0.178571\n",
       "Name: mean, dtype: float64"
      ]
     },
     "execution_count": 65,
     "metadata": {},
     "output_type": "execute_result"
    }
   ],
   "source": [
    "r=[]\n",
    "t=(u-p)\n",
    "r=t[\"mean\"].dropna()\n",
    "r"
   ]
  },
  {
   "cell_type": "code",
   "execution_count": 66,
   "id": "bde2f422-3109-4989-8d86-dcd9fac74edb",
   "metadata": {},
   "outputs": [],
   "source": [
    "d_c_text =''\n",
    "for i in t.index.tolist():\n",
    "    if (round(t['mean'][i],2)>0) or (round(t['mean'][i],2)<0):\n",
    "        d_c_text = d_c_text + 'The class <'+i+'> changed by an average of '+str(round(t['mean'][i],2))+' points'\n",
    "        if round(t['mean'][i],2) > 0:\n",
    "            d_c_text = d_c_text+' more than the previous week. '\n",
    "        elif round(t['mean'][i],2) <0:\n",
    "            d_c_text = d_c_text+' less than the previous week. '\n",
    "    elif round(t['mean'][i],2)==0:\n",
    "        d_c_text = d_c_text + 'The rating of the class'+i+' did not changed to the previous week. '\n",
    "    elif math.isnan(round(t['mean'][i],2)):\n",
    "        d_c_text = d_c_text + 'For the class'+i+' there were no ratings received. '\n",
    "diff_customer = 'Score-Customer Type Comparison:\\nThe ratings by customer type have changed as follows compared to last week: ' + d_c_text\n",
    "df_placeholder.loc[df_placeholder['Placeholder']=='{{Diff_Customer}}','Content']=diff_customer"
   ]
  },
  {
   "cell_type": "code",
   "execution_count": 67,
   "id": "f0d70ba5-a6bf-4063-8d47-58a8ce153a8d",
   "metadata": {},
   "outputs": [
    {
     "data": {
      "image/png": "[encoded data removed]",
      "text/plain": [
       "<Figure size 800x600 with 1 Axes>"
      ]
     },
     "metadata": {},
     "output_type": "display_data"
    }
   ],
   "source": [
    "# Plotting the differences\n",
    "plt.figure(figsize=(8, 6))\n",
    "# Create a color array based on the value of the 'Difference' column\n",
    "colors = []\n",
    "for diff in r:\n",
    "    if diff < 0:\n",
    "        colors.append('red')  # für negative Werte\n",
    "    elif diff > 0.0:\n",
    "        colors.append('lightgreen')  # für positive Werte\n",
    "    elif math.isnan(diff):\n",
    "        colors.append('black')\n",
    "bars=plt.bar([label.replace(' ','\\n') for label in r.index.tolist()], r, color=colors)\n",
    "# Adding horizontal line at y=0\n",
    "plt.axhline(y=0, color='black', linestyle='--', linewidth=1)\n",
    "for bar in bars:\n",
    "    yval = bar.get_height() # Get the height of the bar (the value)\n",
    "    if yval > 0:\n",
    "        yval=\"+\"+str(round(yval,2))\n",
    "    else:\n",
    "        yval=str(round(yval,2))\n",
    "    plt.text(bar.get_x() + bar.get_width() / 2, 0,  # Position the text\n",
    "             yval,  # Display the rounded value\n",
    "             ha='center',  # Horizontal alignment of the text\n",
    "             va='bottom',  # Vertical alignment of the text\n",
    "             color='black' if yval != 0 else 'white',  # Text color based on the value\n",
    "             fontweight='bold',  # Make the text bold\n",
    "             fontsize=16)  # Set the font size to 12 pt\n",
    "# Adding labels and title\n",
    "# plt.xlabel('Category')\n",
    "# plt.ylabel('Difference (value1 - value2)')\n",
    "# plt.title('Differences Between value1 and value2')\n",
    "# Setze die y-Achsen-Grenzen\n",
    "plt.ylim(-10,10)  # z. B. von -10 bis 40\n",
    "plt.savefig('../'+str(id)+\"/Month_\"+str(month)+\"/diff_customer.png\")\n",
    "# Display the plot\n",
    "plt.show()\n"
   ]
  },
  {
   "cell_type": "markdown",
   "id": "cdf811e9-6002-46f2-8c8a-abb0360df0e1",
   "metadata": {},
   "source": [
    "## Sentiment Analysis"
   ]
  },
  {
   "cell_type": "markdown",
   "id": "3ec40670-fa1d-4b14-9473-e60b4d2c2465",
   "metadata": {},
   "source": [
    "### Positive Stack"
   ]
  },
  {
   "cell_type": "code",
   "execution_count": 68,
   "id": "79bacbcc-579e-4dfe-a110-6ca95887750b",
   "metadata": {},
   "outputs": [],
   "source": [
    "def stack(sonst,bad,room,amen,bar,comf,food,loc,well,price,service,ind):\n",
    "    # create DataFrame\n",
    "    labels=[\"Pos_Sonst\",\"Pos_Bad\",\"Pos_Room\",\"Pos_Amenities\",\"Pos_Bar\",\"Pos_Comfort\",\"Pos_Food\",\"Pos_Location\",\"Pos_Wellness\",\"Pos_Price\",\"Pos_Service\"]\n",
    "    df = pd.DataFrame({\"Pos_Sonst\":sonst,\n",
    "                       \"Pos_Bad\":bad,\n",
    "                       \"Pos_Room\":room,\n",
    "                       \"Pos_Amenities\":amen,\n",
    "                       \"Pos_Bar\":bar,\n",
    "                       \"Pos_Comfort\":comf,\n",
    "                       \"Pos_Food\":food,\n",
    "                       \"Pos_Location\":loc,\n",
    "                       \"Pos_Wellness\":well,\n",
    "                       \"Pos_Price\":price,\n",
    "                       \"Pos_Service\":service},\n",
    "                      index=[label.replace(' ','\\n') for label in ind])\n",
    "    # Normalize the data: scale each row to sum to 1\n",
    "    df_normalized = df.div(df.sum(axis=1), axis=0)\n",
    "    # create stacked bar chart for monthly temperatures\n",
    "    df_normalized.plot(kind='bar', stacked=True)\n",
    "    plt.legend(labels, loc=\"upper right\", title=\"Kategorien\")\n",
    "    # labels for x & y axis\n",
    "    #plt.xlabel('Months')\n",
    "    plt.xticks(rotation=0)\n",
    "    #plt.ylabel('Temp ranges in Degree Celsius')\n",
    "    plt.savefig('../'+str(id)+\"/Month_\"+str(month)+\"/pos_stack_room.png\",bbox_inches='tight')\n",
    "    # title of plot\n",
    "    #plt.title('Monthly Temperatures in a year')"
   ]
  },
  {
   "cell_type": "code",
   "execution_count": 69,
   "id": "dd5b5b81-9c57-4f14-9b71-d86a7a9758e3",
   "metadata": {},
   "outputs": [
    {
     "data": {
      "image/png": "[encoded data removed]",
      "text/plain": [
       "<Figure size 640x480 with 1 Axes>"
      ]
     },
     "metadata": {},
     "output_type": "display_data"
    }
   ],
   "source": [
    "sonst=[]\n",
    "bad=[]\n",
    "room=[]\n",
    "amen=[]\n",
    "bar=[]\n",
    "comf=[]\n",
    "food=[]\n",
    "loc=[]\n",
    "well=[]\n",
    "price=[]\n",
    "service=[]\n",
    "ind=[]\n",
    "l=len(df_sub_month_gen[\"Room_Name\"].value_counts().index.tolist())\n",
    "for i in df_sub_month_gen[\"Room_Name\"].value_counts().index.tolist():\n",
    "    count2=df_sub_month_gen[(df_sub_month_gen[\"Room_Name\"]==i)][[\"Pos_Sonst\",\"Pos_Bad\",\"Pos_Room\",\"Pos_Amenities\",\"Pos_Bar\",\"Pos_Comfort\",\"Pos_Food\",\"Pos_Location\",\"Pos_Wellness\",\"Pos_Price\",\"Pos_Service\"]].copy()\n",
    "    if count2[\"Pos_Sonst\"].max()==1:\n",
    "        sonst.append(count2[\"Pos_Sonst\"].sum())\n",
    "    else:\n",
    "        sonst.append(0)\n",
    "    if count2[\"Pos_Bad\"].max()==1:\n",
    "        bad.append(count2[\"Pos_Bad\"].sum())\n",
    "    else:\n",
    "        bad.append(0)\n",
    "    if count2[\"Pos_Room\"].max()==1:\n",
    "        room.append(count2[\"Pos_Room\"].sum())\n",
    "    else:\n",
    "        room.append(0)\n",
    "    if count2[\"Pos_Amenities\"].max()==1:\n",
    "        amen.append(count2[\"Pos_Amenities\"].sum())\n",
    "    else:\n",
    "        amen.append(0)\n",
    "    if count2[\"Pos_Bar\"].max()==1:\n",
    "        bar.append(count2[\"Pos_Bar\"].sum())\n",
    "    else:\n",
    "        bar.append(0)\n",
    "    if count2[\"Pos_Comfort\"].max()==1:\n",
    "        comf.append(count2[\"Pos_Comfort\"].sum())\n",
    "    else:\n",
    "        comf.append(0)\n",
    "    if count2[\"Pos_Food\"].max()==1:\n",
    "        food.append(count2[\"Pos_Food\"].sum())\n",
    "    else:\n",
    "        food.append(0)\n",
    "    if count2[\"Pos_Location\"].max()==1:\n",
    "        loc.append(count2[\"Pos_Location\"].sum())\n",
    "    else:\n",
    "        loc.append(0)\n",
    "    if count2[\"Pos_Wellness\"].max()==1:\n",
    "        well.append(count2[\"Pos_Wellness\"].sum())\n",
    "    else:\n",
    "        well.append(0)\n",
    "    if count2[\"Pos_Price\"].max()==1:\n",
    "        price.append(count2[\"Pos_Price\"].sum())\n",
    "    else:\n",
    "        price.append(0)\n",
    "    if count2[\"Pos_Service\"].max()==1:\n",
    "        service.append(count2[\"Pos_Service\"].sum())\n",
    "    else:\n",
    "        service.append(0)\n",
    "    ind.append(i)\n",
    "sonst.extend([float('nan'),float('nan'),float('nan')])\n",
    "bad.extend([float('nan'),float('nan'),float('nan')])\n",
    "room.extend([float('nan'),float('nan'),float('nan')])\n",
    "amen.extend([float('nan'),float('nan'),float('nan')])\n",
    "bar.extend([float('nan'),float('nan'),float('nan')])\n",
    "comf.extend([float('nan'),float('nan'),float('nan')])\n",
    "food.extend([float('nan'),float('nan'),float('nan')])\n",
    "loc.extend([float('nan'),float('nan'),float('nan')])\n",
    "well.extend([float('nan'),float('nan'),float('nan')])\n",
    "price.extend([float('nan'),float('nan'),float('nan')])\n",
    "service.extend([float('nan'),float('nan'),float('nan')])\n",
    "ind.extend(['','',''])\n",
    "stack(sonst,bad,room,amen,bar,comf,food,loc,well,price,service,ind)"
   ]
  },
  {
   "cell_type": "markdown",
   "id": "34ec15d9-762e-42fa-958e-a5602a3e326f",
   "metadata": {},
   "source": [
    "### Negative Stack"
   ]
  },
  {
   "cell_type": "code",
   "execution_count": 70,
   "id": "471003ba-8a8c-42be-9143-f106a7851e2c",
   "metadata": {},
   "outputs": [],
   "source": [
    "def stack(sonst,bad,room,amen,bar,comf,food,loc,well,price,service,ind):\n",
    "    # create DataFrame\n",
    "    labels=[\"Neg_Sonst\",\"Neg_Bad\",\"Neg_Room\",\"Neg_Amenities\",\"Neg_Bar\",\"Neg_Comfort\",\"Neg_Food\",\"Neg_Location\",\"Neg_Wellness\",\"Neg_Price\",\"Neg_Service\"]\n",
    "    df = pd.DataFrame({\"Neg_Sonst\":sonst,\n",
    "                       \"Neg_Bad\":bad,\n",
    "                       \"Neg_Room\":room,\n",
    "                       \"Neg_Amenities\":amen,\n",
    "                       \"Neg_Bar\":bar,\n",
    "                       \"Neg_Comfort\":comf,\n",
    "                       \"Neg_Food\":food,\n",
    "                       \"Neg_Location\":loc,\n",
    "                       \"Neg_Wellness\":well,\n",
    "                       \"Neg_Price\":price,\n",
    "                       \"Neg_Service\":service},\n",
    "                      index=[label.replace(' ','\\n') for label in ind])\n",
    "    # Normalize the data: scale each row to sum to 1\n",
    "    df_normalized = df.div(df.sum(axis=1), axis=0)\n",
    "    # create stacked bar chart for monthly temperatures\n",
    "    df_normalized.plot(kind='bar', stacked=True)\n",
    "    plt.legend(labels, loc=\"upper right\", title=\"Kategorien\")\n",
    "    #bbox_to_anchor=(1, 0.5)\n",
    "    # labels for x & y axis\n",
    "    #plt.xlabel('Months')\n",
    "    plt.xticks(rotation=0)\n",
    "    #plt.ylabel('Temp ranges in Degree Celsius')\n",
    "    plt.savefig('../'+str(id)+\"/Month_\"+str(month)+\"/neg_stack_room.png\",bbox_inches='tight')\n",
    "    # title of plot\n",
    "    #plt.title('Monthly Temperatures in a year')"
   ]
  },
  {
   "cell_type": "code",
   "execution_count": 71,
   "id": "738f960f-ad7a-4eb6-908a-3a01b3b61217",
   "metadata": {},
   "outputs": [
    {
     "data": {
      "image/png": "[encoded data removed]",
      "text/plain": [
       "<Figure size 640x480 with 1 Axes>"
      ]
     },
     "metadata": {},
     "output_type": "display_data"
    }
   ],
   "source": [
    "sonst=[]\n",
    "bad=[]\n",
    "room=[]\n",
    "amen=[]\n",
    "bar=[]\n",
    "comf=[]\n",
    "food=[]\n",
    "loc=[]\n",
    "well=[]\n",
    "price=[]\n",
    "service=[]\n",
    "ind=[]\n",
    "l=len(df_sub_month_gen[\"Room_Name\"].value_counts().index.tolist())\n",
    "for i in df_sub_month_gen[\"Room_Name\"].value_counts().index.tolist():\n",
    "    count2=df_sub_month_gen[(df_sub_month_gen[\"Room_Name\"]==i)][[\"Neg_Sonst\",\"Neg_Bad\",\"Neg_Room\",\"Neg_Amenities\",\"Neg_Bar\",\"Neg_Comfort\",\"Neg_Food\",\"Neg_Location\",\"Neg_Wellness\",\"Neg_Price\",\"Neg_Service\"]].copy()\n",
    "    if count2[\"Neg_Sonst\"].max()==1:\n",
    "        sonst.append(count2[\"Neg_Sonst\"].sum())\n",
    "    else:\n",
    "        sonst.append(0)\n",
    "    if count2[\"Neg_Bad\"].max()==1:\n",
    "        bad.append(count2[\"Neg_Bad\"].sum())\n",
    "    else:\n",
    "        bad.append(0)\n",
    "    if count2[\"Neg_Room\"].max()==1:\n",
    "        room.append(count2[\"Neg_Room\"].sum())\n",
    "    else:\n",
    "        room.append(0)\n",
    "    if count2[\"Neg_Amenities\"].max()==1:\n",
    "        amen.append(count2[\"Neg_Amenities\"].sum())\n",
    "    else:\n",
    "        amen.append(0)\n",
    "    if count2[\"Neg_Bar\"].max()==1:\n",
    "        bar.append(count2[\"Neg_Bar\"].sum())\n",
    "    else:\n",
    "        bar.append(0)\n",
    "    if count2[\"Neg_Comfort\"].max()==1:\n",
    "        comf.append(count2[\"Neg_Comfort\"].sum())\n",
    "    else:\n",
    "        comf.append(0)\n",
    "    if count2[\"Neg_Food\"].max()==1:\n",
    "        food.append(count2[\"Neg_Food\"].sum())\n",
    "    else:\n",
    "        food.append(0)\n",
    "    if count2[\"Neg_Location\"].max()==1:\n",
    "        loc.append(count2[\"Neg_Location\"].sum())\n",
    "    else:\n",
    "        loc.append(0)\n",
    "    if count2[\"Neg_Wellness\"].max()==1:\n",
    "        well.append(count2[\"Neg_Wellness\"].sum())\n",
    "    else:\n",
    "        well.append(0)\n",
    "    if count2[\"Neg_Price\"].max()==1:\n",
    "        price.append(count2[\"Neg_Price\"].sum())\n",
    "    else:\n",
    "        price.append(0)\n",
    "    if count2[\"Neg_Service\"].max()==1:\n",
    "        service.append(count2[\"Neg_Service\"].sum())\n",
    "    else:\n",
    "        service.append(0)\n",
    "    ind.append(i)\n",
    "sonst.extend([float('nan'),float('nan'),float('nan')])\n",
    "bad.extend([float('nan'),float('nan'),float('nan')])\n",
    "room.extend([float('nan'),float('nan'),float('nan')])\n",
    "amen.extend([float('nan'),float('nan'),float('nan')])\n",
    "bar.extend([float('nan'),float('nan'),float('nan')])\n",
    "comf.extend([float('nan'),float('nan'),float('nan')])\n",
    "food.extend([float('nan'),float('nan'),float('nan')])\n",
    "loc.extend([float('nan'),float('nan'),float('nan')])\n",
    "well.extend([float('nan'),float('nan'),float('nan')])\n",
    "price.extend([float('nan'),float('nan'),float('nan')])\n",
    "service.extend([float('nan'),float('nan'),float('nan')])\n",
    "ind.extend(['','',''])\n",
    "stack(sonst,bad,room,amen,bar,comf,food,loc,well,price,service,ind)"
   ]
  },
  {
   "cell_type": "markdown",
   "id": "68abbba9-c39e-4cde-889b-150a126ad9fd",
   "metadata": {},
   "source": [
    "# Saving Placeholder DataFrame in Excel File"
   ]
  },
  {
   "cell_type": "code",
   "execution_count": 72,
   "id": "d3bbb8ea-6759-4b2b-9ce5-c992071caea7",
   "metadata": {},
   "outputs": [],
   "source": [
    "# Speicher die neue Dataframe ab\n",
    "placeholder_path='../'+str(id)+\"/Month_\"+str(month)+\"/placeholder_month_\"+str(month)+\"_id_\"+str(id)\n",
    "df_placeholder.to_excel(placeholder_path+\".xlsx\")"
   ]
  }
 ],
 "metadata": {
  "kernelspec": {
   "display_name": "Python 3 (ipykernel)",
   "language": "python",
   "name": "python3"
  },
  "language_info": {
   "codemirror_mode": {
    "name": "ipython",
    "version": 3
   },
   "file_extension": ".py",
   "mimetype": "text/x-python",
   "name": "python",
   "nbconvert_exporter": "python",
   "pygments_lexer": "ipython3",
   "version": "3.12.1"
  }
 },
 "nbformat": 4,
 "nbformat_minor": 5
}
